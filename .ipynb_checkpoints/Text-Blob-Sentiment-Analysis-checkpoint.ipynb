{
 "cells": [
  {
   "cell_type": "markdown",
   "metadata": {},
   "source": [
    "#### Sentiment Analysis on a sample of 1,000 Most Recent United Airlines Tweets Pulled from Twitter API"
   ]
  },
  {
   "cell_type": "code",
   "execution_count": null,
   "metadata": {
    "collapsed": true
   },
   "outputs": [],
   "source": [
    "import cnfg\n",
    "import tweepy\n",
    "import pickle\n",
    "\n",
    "import numpy as np\n",
    "import pandas as pd\n",
    "\n",
    "from os.path import expanduser\n",
    "from pymongo import MongoClient\n",
    "from textblob import TextBlob\n",
    "\n",
    "import seaborn as sns\n",
    "from matplotlib import pyplot as plt\n",
    "%matplotlib inline\n",
    "\n",
    "client = MongoClient() #Boot Up MongoDB\n",
    "united = client.airline_tweets.united #Create United Airlines Tweet Collection"
   ]
  },
  {
   "cell_type": "markdown",
   "metadata": {},
   "source": [
    "#### Twitter API Authentication"
   ]
  },
  {
   "cell_type": "code",
   "execution_count": null,
   "metadata": {
    "collapsed": false
   },
   "outputs": [],
   "source": [
    "home = expanduser(\"~\")\n",
    "config = cnfg.load(home + \"/.twitter_config\")\n",
    "auth = tweepy.AppAuthHandler(config[\"consumer_key\"], config[\"consumer_secret\"])\n",
    "\n",
    "api=tweepy.API(auth, wait_on_rate_limit=True, wait_on_rate_limit_notify=True)"
   ]
  },
  {
   "cell_type": "markdown",
   "metadata": {},
   "source": [
    "#### Load Tweets into MongoDB"
   ]
  },
  {
   "cell_type": "code",
   "execution_count": null,
   "metadata": {
    "collapsed": true
   },
   "outputs": [],
   "source": [
    "def pull_tweets(colln, handle, n):    \n",
    "    tweets = tweepy.Cursor(api.search, q=handle, lang=\"en\", show_user=True).items(n)\n",
    "    print \"Rate Limit Status: \", api.rate_limit_status()[\"resoruces\"][\"search\"]\n",
    "    \n",
    "    for tweet._json in tweets:\n",
    "        tweet[\"_id\"] = tweet.pop(\"id\")\n",
    "        print tweet\n",
    "        #colln.insert_one(tweet)"
   ]
  },
  {
   "cell_type": "code",
   "execution_count": null,
   "metadata": {
    "collapsed": true
   },
   "outputs": [],
   "source": [
    "pull_tweets(\"@United\", 5)"
   ]
  },
  {
   "cell_type": "code",
   "execution_count": null,
   "metadata": {
    "collapsed": true
   },
   "outputs": [],
   "source": []
  },
  {
   "cell_type": "code",
   "execution_count": null,
   "metadata": {
    "collapsed": true
   },
   "outputs": [],
   "source": []
  },
  {
   "cell_type": "markdown",
   "metadata": {},
   "source": [
    "#### Sentiment Analysis using TextBlob"
   ]
  },
  {
   "cell_type": "code",
   "execution_count": null,
   "metadata": {
    "collapsed": true
   },
   "outputs": [],
   "source": [
    "def plot_polarity(colln):\n",
    "    polarities = []\n",
    "    tweets = colln.find()\n",
    "    \n",
    "    for tweet in tweets:\n",
    "        polarity = TextBlob(tweet[\"text\"]).sentiment.polarity\n",
    "        polarities.append(polarity)\n",
    "        \n",
    "    plt.hist(polarities, histtype=\"bar\")"
   ]
  },
  {
   "cell_type": "code",
   "execution_count": null,
   "metadata": {
    "collapsed": false
   },
   "outputs": [],
   "source": [
    "plt.figure(figsize=(20,10))\n",
    "plot_polarity(united)\n",
    "plt.xlabel(\"TextBlob Polarity\")\n",
    "plt.ylabel(\"(%)\")\n",
    "plt.title(\"United Airlines Tweet Sentiment Polarity\", fontsize=24)"
   ]
  },
  {
   "cell_type": "code",
   "execution_count": null,
   "metadata": {
    "collapsed": false
   },
   "outputs": [],
   "source": []
  },
  {
   "cell_type": "code",
   "execution_count": null,
   "metadata": {
    "collapsed": true
   },
   "outputs": [],
   "source": []
  },
  {
   "cell_type": "code",
   "execution_count": null,
   "metadata": {
    "collapsed": true
   },
   "outputs": [],
   "source": []
  }
 ],
 "metadata": {
  "kernelspec": {
   "display_name": "Python 2",
   "language": "python",
   "name": "python2"
  },
  "language_info": {
   "codemirror_mode": {
    "name": "ipython",
    "version": 2
   },
   "file_extension": ".py",
   "mimetype": "text/x-python",
   "name": "python",
   "nbconvert_exporter": "python",
   "pygments_lexer": "ipython2",
   "version": "2.7.10"
  }
 },
 "nbformat": 4,
 "nbformat_minor": 0
}
