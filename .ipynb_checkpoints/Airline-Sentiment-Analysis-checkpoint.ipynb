{
 "cells": [
  {
   "cell_type": "markdown",
   "metadata": {},
   "source": [
    "### Project Fletcher Airline Sentiment Analysis"
   ]
  },
  {
   "cell_type": "code",
   "execution_count": 1,
   "metadata": {
    "collapsed": false
   },
   "outputs": [],
   "source": [
    "import re\n",
    "import numpy as np\n",
    "import pandas as pd\n",
    "from matplotlib import pyplot as plt\n",
    "import seaborn as sns\n",
    "import pylab\n",
    "%matplotlib inline\n",
    "\n",
    "from nltk.corpus import twitter_samples\n",
    "from nltk.tokenize.casual import TweetTokenizer\n",
    "\n",
    "from sklearn.cross_validation import train_test_split\n",
    "from sklearn.naive_bayes import BernoulliNB, MultinomialNB\n",
    "from sklearn.svm import LinearSVC\n",
    "from sklearn.feature_extraction.text import CountVectorizer, TfidfVectorizer, ENGLISH_STOP_WORDS\n",
    "from sklearn.metrics import accuracy_score, confusion_matrix"
   ]
  },
  {
   "cell_type": "markdown",
   "metadata": {},
   "source": [
    "##### Define Preprocessing and Tokenizer Functions to Read into Vectorizer"
   ]
  },
  {
   "cell_type": "code",
   "execution_count": 2,
   "metadata": {
    "collapsed": false
   },
   "outputs": [],
   "source": [
    "def preprocess(text):\n",
    "    text = re.sub(r\"(?:\\https?\\://)\\S+\", \"\", text) #remove urls\n",
    "    text = re.sub('\\@(\\w+)', \" \", text).replace(\": \",\"\") #remove usernames\n",
    "    text = re.sub('#(\\w+)', \" \", text) #remove hashtags\n",
    "    text = text.replace(\"RT \",\"\") #remove RT Symbols\n",
    "    text = text.replace(\"RT: \",\"\") #remove RT Symbols\n",
    "    text = re.sub(\"[^a-zA-Z,]+\", \" \", text) #remove other non-alpha characters\n",
    "    text = text.strip(\" \") #remove leading and trailing whitespace\n",
    "    \n",
    "    return text\n",
    "\n",
    "def tokenize(text):\n",
    "    tokenizer = TweetTokenizer(preserve_case=False, reduce_len=True, strip_handles=True)  \n",
    "    \n",
    "    return [x for x in tokenizer.tokenize(preprocess(text)) if len(x)>=4]"
   ]
  },
  {
   "cell_type": "markdown",
   "metadata": {},
   "source": [
    "#### Read-In NLTK Twitter Sentiment Data"
   ]
  },
  {
   "cell_type": "code",
   "execution_count": 3,
   "metadata": {
    "collapsed": false
   },
   "outputs": [
    {
     "name": "stdout",
     "output_type": "stream",
     "text": [
      "1    5000\n",
      "0    5000\n",
      "Name: sentiment, dtype: int64\n"
     ]
    },
    {
     "data": {
      "text/html": [
       "<div>\n",
       "<table border=\"1\" class=\"dataframe\">\n",
       "  <thead>\n",
       "    <tr style=\"text-align: right;\">\n",
       "      <th></th>\n",
       "      <th>sentiment</th>\n",
       "      <th>text</th>\n",
       "    </tr>\n",
       "  </thead>\n",
       "  <tbody>\n",
       "    <tr>\n",
       "      <th>0</th>\n",
       "      <td>1</td>\n",
       "      <td>hopeless for tmr :(</td>\n",
       "    </tr>\n",
       "    <tr>\n",
       "      <th>1</th>\n",
       "      <td>1</td>\n",
       "      <td>Everything in the kids section of IKEA is so c...</td>\n",
       "    </tr>\n",
       "    <tr>\n",
       "      <th>2</th>\n",
       "      <td>1</td>\n",
       "      <td>@Hegelbon That heart sliding into the waste ba...</td>\n",
       "    </tr>\n",
       "    <tr>\n",
       "      <th>3</th>\n",
       "      <td>1</td>\n",
       "      <td>“@ketchBurning: I hate Japanese call him \"bani...</td>\n",
       "    </tr>\n",
       "    <tr>\n",
       "      <th>4</th>\n",
       "      <td>1</td>\n",
       "      <td>Dang starting next week I have \"work\" :(</td>\n",
       "    </tr>\n",
       "  </tbody>\n",
       "</table>\n",
       "</div>"
      ],
      "text/plain": [
       "   sentiment                                               text\n",
       "0          1                                hopeless for tmr :(\n",
       "1          1  Everything in the kids section of IKEA is so c...\n",
       "2          1  @Hegelbon That heart sliding into the waste ba...\n",
       "3          1  “@ketchBurning: I hate Japanese call him \"bani...\n",
       "4          1           Dang starting next week I have \"work\" :("
      ]
     },
     "execution_count": 3,
     "metadata": {},
     "output_type": "execute_result"
    }
   ],
   "source": [
    "def read_demo_tweets():\n",
    "    tweets = []\n",
    "    for tweet in twitter_samples.strings(\"negative_tweets.json\"):\n",
    "        tweets.append({\"text\":tweet, \"sentiment\":1})\n",
    "        \n",
    "    for tweet in twitter_samples.strings(\"positive_tweets.json\"):\n",
    "        tweets.append({\"text\":tweet, \"sentiment\":0})\n",
    "        \n",
    "    return pd.DataFrame(tweets)\n",
    "\n",
    "\n",
    "demo_tweets=read_demo_tweets()\n",
    "print demo_tweets.sentiment.value_counts(dropna=False)\n",
    "demo_tweets.head(5)"
   ]
  },
  {
   "cell_type": "markdown",
   "metadata": {},
   "source": [
    "#### Read in CrowdFlower Data. Split Unambigous Tweets into Train and Test"
   ]
  },
  {
   "cell_type": "code",
   "execution_count": 4,
   "metadata": {
    "collapsed": false
   },
   "outputs": [
    {
     "data": {
      "text/html": [
       "<div>\n",
       "<table border=\"1\" class=\"dataframe\">\n",
       "  <thead>\n",
       "    <tr style=\"text-align: right;\">\n",
       "      <th></th>\n",
       "      <th>_unit_id</th>\n",
       "      <th>_trusted_judgments</th>\n",
       "      <th>airline_sentiment:confidence</th>\n",
       "      <th>airline</th>\n",
       "      <th>text</th>\n",
       "      <th>sentiment</th>\n",
       "      <th>text_blob_sentiment</th>\n",
       "      <th>vader_sentiment</th>\n",
       "    </tr>\n",
       "  </thead>\n",
       "  <tbody>\n",
       "    <tr>\n",
       "      <th>0</th>\n",
       "      <td>681448150</td>\n",
       "      <td>3</td>\n",
       "      <td>1.0000</td>\n",
       "      <td>Virgin America</td>\n",
       "      <td>@VirginAmerica What @dhepburn said.</td>\n",
       "      <td>0</td>\n",
       "      <td>0.000000</td>\n",
       "      <td>0.0000</td>\n",
       "    </tr>\n",
       "    <tr>\n",
       "      <th>1</th>\n",
       "      <td>681448153</td>\n",
       "      <td>3</td>\n",
       "      <td>0.3486</td>\n",
       "      <td>Virgin America</td>\n",
       "      <td>@VirginAmerica plus you've added commercials t...</td>\n",
       "      <td>0</td>\n",
       "      <td>0.000000</td>\n",
       "      <td>0.0000</td>\n",
       "    </tr>\n",
       "    <tr>\n",
       "      <th>2</th>\n",
       "      <td>681448156</td>\n",
       "      <td>3</td>\n",
       "      <td>0.6837</td>\n",
       "      <td>Virgin America</td>\n",
       "      <td>@VirginAmerica I didn't today... Must mean I n...</td>\n",
       "      <td>0</td>\n",
       "      <td>-0.390625</td>\n",
       "      <td>0.0000</td>\n",
       "    </tr>\n",
       "    <tr>\n",
       "      <th>3</th>\n",
       "      <td>681448158</td>\n",
       "      <td>3</td>\n",
       "      <td>1.0000</td>\n",
       "      <td>Virgin America</td>\n",
       "      <td>@VirginAmerica it's really aggressive to blast...</td>\n",
       "      <td>1</td>\n",
       "      <td>0.006250</td>\n",
       "      <td>-0.5984</td>\n",
       "    </tr>\n",
       "    <tr>\n",
       "      <th>4</th>\n",
       "      <td>681448159</td>\n",
       "      <td>3</td>\n",
       "      <td>1.0000</td>\n",
       "      <td>Virgin America</td>\n",
       "      <td>@VirginAmerica and it's a really big bad thing...</td>\n",
       "      <td>1</td>\n",
       "      <td>-0.350000</td>\n",
       "      <td>-0.5829</td>\n",
       "    </tr>\n",
       "  </tbody>\n",
       "</table>\n",
       "</div>"
      ],
      "text/plain": [
       "    _unit_id  _trusted_judgments  airline_sentiment:confidence  \\\n",
       "0  681448150                   3                        1.0000   \n",
       "1  681448153                   3                        0.3486   \n",
       "2  681448156                   3                        0.6837   \n",
       "3  681448158                   3                        1.0000   \n",
       "4  681448159                   3                        1.0000   \n",
       "\n",
       "          airline                                               text  \\\n",
       "0  Virgin America                @VirginAmerica What @dhepburn said.   \n",
       "1  Virgin America  @VirginAmerica plus you've added commercials t...   \n",
       "2  Virgin America  @VirginAmerica I didn't today... Must mean I n...   \n",
       "3  Virgin America  @VirginAmerica it's really aggressive to blast...   \n",
       "4  Virgin America  @VirginAmerica and it's a really big bad thing...   \n",
       "\n",
       "   sentiment  text_blob_sentiment  vader_sentiment  \n",
       "0          0             0.000000           0.0000  \n",
       "1          0             0.000000           0.0000  \n",
       "2          0            -0.390625           0.0000  \n",
       "3          1             0.006250          -0.5984  \n",
       "4          1            -0.350000          -0.5829  "
      ]
     },
     "execution_count": 4,
     "metadata": {},
     "output_type": "execute_result"
    }
   ],
   "source": [
    "cf = pd.read_pickle(\"data/crowdflower/airline_sentiment_with_tb_vader.pkl\")\n",
    "cf.head(5)"
   ]
  },
  {
   "cell_type": "code",
   "execution_count": 5,
   "metadata": {
    "collapsed": false
   },
   "outputs": [
    {
     "name": "stdout",
     "output_type": "stream",
     "text": [
      "count    14640.000000\n",
      "mean         0.048714\n",
      "std          0.325888\n",
      "min         -1.000000\n",
      "25%         -0.010000\n",
      "50%          0.000000\n",
      "75%          0.200000\n",
      "max          1.000000\n",
      "Name: text_blob_sentiment, dtype: float64\n",
      "count    14640.000000\n",
      "mean         0.055417\n",
      "std          0.456556\n",
      "min         -0.966800\n",
      "25%         -0.296000\n",
      "50%          0.000000\n",
      "75%          0.440400\n",
      "max          0.976000\n",
      "Name: vader_sentiment, dtype: float64\n"
     ]
    }
   ],
   "source": [
    "print cf.text_blob_sentiment.describe()\n",
    "print cf.vader_sentiment.describe()"
   ]
  },
  {
   "cell_type": "code",
   "execution_count": 6,
   "metadata": {
    "collapsed": false
   },
   "outputs": [
    {
     "name": "stdout",
     "output_type": "stream",
     "text": [
      "(4194, 8) (10427, 8) (7298, 8) (3129, 8)\n"
     ]
    }
   ],
   "source": [
    "cf_unambig = cf.ix[(cf[\"_trusted_judgments\"]>2) & (cf[\"airline_sentiment:confidence\"]==1.00)]\n",
    "cf_ambig = cf.ix[(cf[\"_trusted_judgments\"]>2) & (cf[\"airline_sentiment:confidence\"]<1.00)]\n",
    "\n",
    "cf_train, cf_test = train_test_split(cf_unambig, test_size=0.3, random_state=4444)\n",
    "\n",
    "print cf_ambig.shape, cf_unambig.shape, cf_train.shape, cf_test.shape"
   ]
  },
  {
   "cell_type": "markdown",
   "metadata": {},
   "source": [
    "#### Graph Positive/ Neutral vs. Negative Ratings by Airline"
   ]
  },
  {
   "cell_type": "code",
   "execution_count": 7,
   "metadata": {
    "collapsed": false
   },
   "outputs": [
    {
     "name": "stdout",
     "output_type": "stream",
     "text": [
      "['Virgin America', 'Delta', 'Southwest', 'American', 'US Airways', 'United']\n"
     ]
    },
    {
     "data": {
      "image/png": "[encoded data removed]",
      "text/plain": [
       "<matplotlib.figure.Figure at 0x10dde0ed0>"
      ]
     },
     "metadata": {},
     "output_type": "display_data"
    }
   ],
   "source": [
    "negative = cf_unambig.ix[cf_unambig.sentiment==1].groupby(by=\"airline\", as_index=False)[\"_unit_id\"].count()\n",
    "positive = cf_unambig.ix[cf_unambig.sentiment==0].groupby(by=\"airline\", as_index=False)[\"_unit_id\"].count()\n",
    "\n",
    "negative.rename(columns={\"_unit_id\":\"negative_tweets\"}, inplace=True)\n",
    "positive.rename(columns={\"_unit_id\":\"positive_tweets\"}, inplace=True)\n",
    "total = pd.merge(negative, positive, on=\"airline\")\n",
    "total[\"total_tweets\"] = total.negative_tweets + total.positive_tweets\n",
    "total.sort_values(by=\"total_tweets\", ascending=True, inplace=True)\n",
    "print total.airline.tolist()\n",
    "\n",
    "blue = sns.color_palette(\"deep\")[0]\n",
    "red = sns.color_palette(\"deep\")[2]\n",
    "\n",
    "plt.figure(figsize=(20,10))\n",
    "p1=plt.barh(np.arange(6), total.negative_tweets, 0.8, color=red, label=\"Negative\")\n",
    "p2=plt.barh(np.arange(6), total.positive_tweets, 0.8, color=blue, left=total.negative_tweets,label=\"Positive/ Neutral\")\n",
    "\n",
    "#plt.title(\"Tweets by Sentiment and Airline\", fontsize=32)\n",
    "plt.xlabel(\"Number of Tweets (Feb 2015)\", fontsize=26)\n",
    "#plt.yticks([(x+(0.75/2)) for x in range(0,6)],[])\n",
    "plt.tick_params(axis=\"x\", labelsize=24)\n",
    "plt.tick_params(axis=\"y\", colors=\"white\")\n",
    "plt.legend(loc=\"best\", fontsize=26)\n",
    "plt.savefig(\"graphics/twees_by_sentiment_airline.png\")"
   ]
  },
  {
   "cell_type": "markdown",
   "metadata": {},
   "source": [
    "#### Grid Search to Optimize Lexicon-Based Sentiment Analyzers"
   ]
  },
  {
   "cell_type": "code",
   "execution_count": 8,
   "metadata": {
    "collapsed": false
   },
   "outputs": [
    {
     "name": "stdout",
     "output_type": "stream",
     "text": [
      "Text Blob 0.5: (0.5, 0.73761585170981148)\n",
      "Text Blob 0.1: (0.29999999999999982, 0.73761585170981148)\n",
      "Text Blob 0.05: (0.40000000000000124, 0.74177053371684243)\n",
      "\n",
      "VADER 0.5: (0.5, 0.75775007989773091)\n",
      "VADER 0.1: (0.39999999999999969, 0.76478108021732183)\n",
      "VADER 0.05: (0.3500000000000012, 0.76861617130073501)\n"
     ]
    }
   ],
   "source": [
    "def lexicon_grid_search(variable, test, step):\n",
    "    max_accuracy = 0\n",
    "    max_param = np.nan\n",
    "    \n",
    "    for x in np.arange(-1, 1, step):\n",
    "        pred_y = []\n",
    "        \n",
    "        for each in test[variable]:\n",
    "            if each < x:\n",
    "                pred_y.append(1) #negative\n",
    "            else:\n",
    "                pred_y.append(0) #positive/ neutral\n",
    "            \n",
    "        true_y = test[\"sentiment\"]\n",
    "        accuracy = accuracy_score(true_y, pred_y)\n",
    "            \n",
    "        if accuracy > max_accuracy:\n",
    "            max_accuracy = accuracy\n",
    "            max_param = x\n",
    "            \n",
    "    return (max_param, max_accuracy)\n",
    "\n",
    "print \"Text Blob 0.5: \"+str(lexicon_grid_search(\"text_blob_sentiment\", cf_test, 0.5))\n",
    "print \"Text Blob 0.1: \"+str(lexicon_grid_search(\"text_blob_sentiment\", cf_test, 0.1))\n",
    "print \"Text Blob 0.05: \"+str(lexicon_grid_search(\"text_blob_sentiment\", cf_test, 0.05))\n",
    "print \"\"\n",
    "print \"VADER 0.5: \"+str(lexicon_grid_search(\"vader_sentiment\", cf_test, 0.5))\n",
    "print \"VADER 0.1: \"+str(lexicon_grid_search(\"vader_sentiment\", cf_test, 0.1))\n",
    "print \"VADER 0.05: \"+str(lexicon_grid_search(\"vader_sentiment\", cf_test, 0.05))"
   ]
  },
  {
   "cell_type": "markdown",
   "metadata": {},
   "source": [
    "The optimal TextBlob Sentiment Classifer attains a 77% accuracy on the test set."
   ]
  },
  {
   "cell_type": "markdown",
   "metadata": {},
   "source": [
    "#### Test Naive Bayes and SVM Models Trained on NLTK and Crowdflower Corpuses"
   ]
  },
  {
   "cell_type": "markdown",
   "metadata": {},
   "source": [
    "#### Define Functions"
   ]
  },
  {
   "cell_type": "code",
   "execution_count": 9,
   "metadata": {
    "collapsed": true
   },
   "outputs": [],
   "source": [
    "air_travel_sws = ENGLISH_STOP_WORDS.union([\"aa\",\"united\",\"usairways\",\"americanair\",\"southwestair\",\"jetblue\",\"http\",\\\n",
    "                                           \"virginamerica\",\"amp\",\"flight\",\"flights\",\"plane\",\"gate\",\"flightled\",\\\n",
    "                                           \"bag\",\"airline\",\"airport\",\"fly\"])"
   ]
  },
  {
   "cell_type": "code",
   "execution_count": 10,
   "metadata": {
    "collapsed": true
   },
   "outputs": [],
   "source": [
    "def fit_count_model(classifier, train, test, sws, binary):\n",
    "    vectorizer = CountVectorizer(decode_error=\"ignore\", ngram_range=(1,1), min_df=2, max_df=0.2, stop_words=sws,\\\n",
    "                                 tokenizer=tokenize, binary=binary)\n",
    "    \n",
    "    vectorizer.fit(train[\"text\"])\n",
    "    \n",
    "    train_X = vectorizer.transform(train[\"text\"])\n",
    "    test_X = vectorizer.transform(test[\"text\"])\n",
    "    \n",
    "    train_y = train[\"sentiment\"]\n",
    "    test_y = test[\"sentiment\"]\n",
    "    \n",
    "    clf = classifier.fit(train_X, train_y)\n",
    "    \n",
    "    #print \"Confusion Matrix: \"\n",
    "    #print confusion_matrix(test_y, clf.predict(test_X))\n",
    "    \n",
    "    accuracy = accuracy_score(test_y, clf.predict(test_X))\n",
    "    features = zip(vectorizer.get_feature_names(), clf.coef_[0])\n",
    "    top10_features = sorted(features, reverse=True, key=lambda x: x[1])[:10]\n",
    "    \n",
    "    print \"Accuracy: \"+str(accuracy)\n",
    "    \n",
    "    return [accuracy, [x[0] for x in top10_features]]\n",
    "    \n",
    "\n",
    "def fit_tfidf_model(classifier, train, test, sws, binary):\n",
    "    vectorizer = TfidfVectorizer(decode_error=\"ignore\", ngram_range=(1,1), min_df=2, max_df=0.2, stop_words=sws,\n",
    "                                 tokenizer=tokenize, binary=binary)\n",
    "        \n",
    "    vectorizer.fit(train[\"text\"])\n",
    "    \n",
    "    train_X = vectorizer.transform(train[\"text\"])\n",
    "    test_X = vectorizer.transform(test[\"text\"])\n",
    "    \n",
    "    train_y = train[\"sentiment\"]\n",
    "    test_y = test[\"sentiment\"]\n",
    "    \n",
    "    clf = classifier.fit(train_X, train_y)\n",
    "    \n",
    "    #print \"Confusion Matrix: \"\n",
    "    #print confusion_matrix(test_y, clf.predict(test_X))\n",
    "    \n",
    "    accuracy = accuracy_score(test_y, clf.predict(test_X))\n",
    "    features = zip(vectorizer.get_feature_names(), clf.coef_[0])\n",
    "    top10_features=sorted(features, reverse=True, key=lambda x: x[1])[:10]\n",
    "    \n",
    "    print \"Accuracy: \"+str(accuracy)\n",
    "    \n",
    "    return [accuracy, [x[0] for x in top10_features]]\n",
    "\n",
    "\n",
    "def test_models(function, train, sws, label):\n",
    "    m1=function(BernoulliNB(binarize=None), train, cf_test, sws, True)\n",
    "    m2=function(MultinomialNB(), train, cf_test, sws, False)\n",
    "    m3=function(LinearSVC(), train, cf_test, sws, False)\n",
    "    \n",
    "    data = [{\"clf\":\"Bernoulli NB\", \"accuracy\":m1[0]*100, \"features\":m1[1], \"label\":label},\\\n",
    "            {\"clf\":\"Multinomial NB\", \"accuracy\":m2[0]*100, \"features\":m2[1], \"label\":label},\\\n",
    "            {\"clf\":\"Linear SVM\",\"accuracy\":m3[0]*100, \"features\":m3[1], \"label\":label}]\n",
    "    \n",
    "    return pd.DataFrame(data)"
   ]
  },
  {
   "cell_type": "code",
   "execution_count": 11,
   "metadata": {
    "collapsed": false
   },
   "outputs": [
    {
     "name": "stdout",
     "output_type": "stream",
     "text": [
      "Accuracy: 0.725151805689\n",
      "Accuracy: 0.743368488335\n",
      "Accuracy: 0.651006711409\n",
      "\n",
      "Accuracy: 0.715244487057\n",
      "Accuracy: 0.732821987856\n",
      "Accuracy: 0.666027484819\n",
      "\n",
      "Accuracy: 0.856184084372\n",
      "Accuracy: 0.837647810802\n",
      "Accuracy: 0.841482901886\n",
      "\n",
      "Accuracy: 0.814956855225\n",
      "Accuracy: 0.822946628316\n",
      "Accuracy: 0.851390220518\n",
      "\n"
     ]
    },
    {
     "data": {
      "text/html": [
       "<div>\n",
       "<table border=\"1\" class=\"dataframe\">\n",
       "  <thead>\n",
       "    <tr style=\"text-align: right;\">\n",
       "      <th></th>\n",
       "      <th>accuracy</th>\n",
       "      <th>clf</th>\n",
       "      <th>features</th>\n",
       "      <th>label</th>\n",
       "    </tr>\n",
       "  </thead>\n",
       "  <tbody>\n",
       "    <tr>\n",
       "      <th>0</th>\n",
       "      <td>72.515181</td>\n",
       "      <td>Bernoulli NB</td>\n",
       "      <td>[miss, just, want, like, sorry, time, love, kn...</td>\n",
       "      <td>General Tweets \\n(Count Vectorized)</td>\n",
       "    </tr>\n",
       "    <tr>\n",
       "      <th>1</th>\n",
       "      <td>74.336849</td>\n",
       "      <td>Multinomial NB</td>\n",
       "      <td>[miss, just, want, like, sorry, follow, time, ...</td>\n",
       "      <td>General Tweets \\n(Count Vectorized)</td>\n",
       "    </tr>\n",
       "    <tr>\n",
       "      <th>2</th>\n",
       "      <td>65.100671</td>\n",
       "      <td>Linear SVM</td>\n",
       "      <td>[letting, emotional, anybody, poorly, medicine...</td>\n",
       "      <td>General Tweets \\n(Count Vectorized)</td>\n",
       "    </tr>\n",
       "    <tr>\n",
       "      <th>0</th>\n",
       "      <td>71.524449</td>\n",
       "      <td>Bernoulli NB</td>\n",
       "      <td>[miss, want, sorry, just, like, love, know, fo...</td>\n",
       "      <td>General Tweets \\n(TF-IDF Vectorized)</td>\n",
       "    </tr>\n",
       "    <tr>\n",
       "      <th>1</th>\n",
       "      <td>73.282199</td>\n",
       "      <td>Multinomial NB</td>\n",
       "      <td>[miss, want, sorry, just, like, follow, love, ...</td>\n",
       "      <td>General Tweets \\n(TF-IDF Vectorized)</td>\n",
       "    </tr>\n",
       "    <tr>\n",
       "      <th>2</th>\n",
       "      <td>66.602748</td>\n",
       "      <td>Linear SVM</td>\n",
       "      <td>[shame, anybody, emotional, missing, justin, l...</td>\n",
       "      <td>General Tweets \\n(TF-IDF Vectorized)</td>\n",
       "    </tr>\n",
       "    <tr>\n",
       "      <th>0</th>\n",
       "      <td>85.618408</td>\n",
       "      <td>Bernoulli NB</td>\n",
       "      <td>[cancelled, service, hours, customer, hold, ti...</td>\n",
       "      <td>Airline Tweets \\n(Count Vectorized)</td>\n",
       "    </tr>\n",
       "    <tr>\n",
       "      <th>1</th>\n",
       "      <td>83.764781</td>\n",
       "      <td>Multinomial NB</td>\n",
       "      <td>[cancelled, service, hours, customer, hold, ti...</td>\n",
       "      <td>Airline Tweets \\n(Count Vectorized)</td>\n",
       "    </tr>\n",
       "    <tr>\n",
       "      <th>2</th>\n",
       "      <td>84.148290</td>\n",
       "      <td>Linear SVM</td>\n",
       "      <td>[denied, screwed, miserable, worse, dulles, br...</td>\n",
       "      <td>Airline Tweets \\n(Count Vectorized)</td>\n",
       "    </tr>\n",
       "    <tr>\n",
       "      <th>0</th>\n",
       "      <td>81.495686</td>\n",
       "      <td>Bernoulli NB</td>\n",
       "      <td>[cancelled, hours, service, hold, customer, de...</td>\n",
       "      <td>Airline Tweets \\n(TF-IDF Vectorized)</td>\n",
       "    </tr>\n",
       "    <tr>\n",
       "      <th>1</th>\n",
       "      <td>82.294663</td>\n",
       "      <td>Multinomial NB</td>\n",
       "      <td>[cancelled, hours, service, hold, customer, de...</td>\n",
       "      <td>Airline Tweets \\n(TF-IDF Vectorized)</td>\n",
       "    </tr>\n",
       "    <tr>\n",
       "      <th>2</th>\n",
       "      <td>85.139022</td>\n",
       "      <td>Linear SVM</td>\n",
       "      <td>[worst, hours, customers, disappointed, hour, ...</td>\n",
       "      <td>Airline Tweets \\n(TF-IDF Vectorized)</td>\n",
       "    </tr>\n",
       "  </tbody>\n",
       "</table>\n",
       "</div>"
      ],
      "text/plain": [
       "    accuracy             clf  \\\n",
       "0  72.515181    Bernoulli NB   \n",
       "1  74.336849  Multinomial NB   \n",
       "2  65.100671      Linear SVM   \n",
       "0  71.524449    Bernoulli NB   \n",
       "1  73.282199  Multinomial NB   \n",
       "2  66.602748      Linear SVM   \n",
       "0  85.618408    Bernoulli NB   \n",
       "1  83.764781  Multinomial NB   \n",
       "2  84.148290      Linear SVM   \n",
       "0  81.495686    Bernoulli NB   \n",
       "1  82.294663  Multinomial NB   \n",
       "2  85.139022      Linear SVM   \n",
       "\n",
       "                                            features  \\\n",
       "0  [miss, just, want, like, sorry, time, love, kn...   \n",
       "1  [miss, just, want, like, sorry, follow, time, ...   \n",
       "2  [letting, emotional, anybody, poorly, medicine...   \n",
       "0  [miss, want, sorry, just, like, love, know, fo...   \n",
       "1  [miss, want, sorry, just, like, follow, love, ...   \n",
       "2  [shame, anybody, emotional, missing, justin, l...   \n",
       "0  [cancelled, service, hours, customer, hold, ti...   \n",
       "1  [cancelled, service, hours, customer, hold, ti...   \n",
       "2  [denied, screwed, miserable, worse, dulles, br...   \n",
       "0  [cancelled, hours, service, hold, customer, de...   \n",
       "1  [cancelled, hours, service, hold, customer, de...   \n",
       "2  [worst, hours, customers, disappointed, hour, ...   \n",
       "\n",
       "                                  label  \n",
       "0   General Tweets \\n(Count Vectorized)  \n",
       "1   General Tweets \\n(Count Vectorized)  \n",
       "2   General Tweets \\n(Count Vectorized)  \n",
       "0  General Tweets \\n(TF-IDF Vectorized)  \n",
       "1  General Tweets \\n(TF-IDF Vectorized)  \n",
       "2  General Tweets \\n(TF-IDF Vectorized)  \n",
       "0   Airline Tweets \\n(Count Vectorized)  \n",
       "1   Airline Tweets \\n(Count Vectorized)  \n",
       "2   Airline Tweets \\n(Count Vectorized)  \n",
       "0  Airline Tweets \\n(TF-IDF Vectorized)  \n",
       "1  Airline Tweets \\n(TF-IDF Vectorized)  \n",
       "2  Airline Tweets \\n(TF-IDF Vectorized)  "
      ]
     },
     "execution_count": 11,
     "metadata": {},
     "output_type": "execute_result"
    }
   ],
   "source": [
    "general_count = test_models(fit_count_model, demo_tweets, \"english\", \"General Tweets \\n(Count Vectorized)\")\n",
    "print \"\"\n",
    "general_tfidf = test_models(fit_tfidf_model, demo_tweets, \"english\", \"General Tweets \\n(TF-IDF Vectorized)\")\n",
    "print \"\"\n",
    "airline_count = test_models(fit_count_model, cf_train, air_travel_sws, \"Airline Tweets \\n(Count Vectorized)\")\n",
    "print \"\"\n",
    "airline_tfidf = test_models(fit_tfidf_model, cf_train, air_travel_sws, \"Airline Tweets \\n(TF-IDF Vectorized)\")\n",
    "print \"\"\n",
    "\n",
    "results = pd.concat([general_count, general_tfidf, airline_count, airline_tfidf], axis=0)\n",
    "results"
   ]
  },
  {
   "cell_type": "markdown",
   "metadata": {},
   "source": [
    "#### Create Accuracy Graph"
   ]
  },
  {
   "cell_type": "code",
   "execution_count": 12,
   "metadata": {
    "collapsed": false
   },
   "outputs": [
    {
     "data": {
      "image/png": "[encoded data removed]",
      "text/plain": [
       "<matplotlib.figure.Figure at 0x10e090950>"
      ]
     },
     "metadata": {},
     "output_type": "display_data"
    }
   ],
   "source": [
    "plt.figure(figsize=(20,10))\n",
    "\n",
    "reds = sns.color_palette(\"Greens\")[2:5]\n",
    "blues = sns.color_palette(\"Blues\")[2:5]\n",
    "\n",
    "l1=plt.axhline(y=float(cf_test.sentiment.value_counts()[1]*100)/ cf_test.shape[0], color=\"black\")\n",
    "plt.axhline(y=lexicon_grid_search(\"text_blob_sentiment\", cf_test, 0.05)[1]*100, color=\"#ff00bf\")\n",
    "plt.axhline(y=lexicon_grid_search(\"vader_sentiment\", cf_test, 0.05)[1]*100, color=\"#8000ff\")\n",
    "\n",
    "sns.barplot(x=\"label\", y=\"accuracy\", hue=\"clf\", palette=blues, data=results)\n",
    "\n",
    "plt.xlabel(\"\")\n",
    "plt.ylabel(\"Accuracy (%)\", fontsize=32)\n",
    "\n",
    "plt.tick_params(axis=\"x\", labelsize=28)\n",
    "plt.tick_params(axis=\"y\", labelsize=24)\n",
    "\n",
    "plt.legend(loc=\"upper left\", fontsize=28)\n",
    "\n",
    "pylab.ylim([50,100])\n",
    "plt.savefig(\"graphics/sentiment_analyzer_accuracy.png\")"
   ]
  },
  {
   "cell_type": "markdown",
   "metadata": {},
   "source": [
    "#### Look at Most Important Keywords"
   ]
  },
  {
   "cell_type": "code",
   "execution_count": 15,
   "metadata": {
    "collapsed": false
   },
   "outputs": [
    {
     "name": "stdout",
     "output_type": "stream",
     "text": [
      "Index([u'accuracy', u'clf', u'features', u'label'], dtype='object')\n"
     ]
    }
   ],
   "source": [
    "print results.columns"
   ]
  },
  {
   "cell_type": "code",
   "execution_count": 16,
   "metadata": {
    "collapsed": false
   },
   "outputs": [],
   "source": [
    "def print_top_unigrams(df, clf, label):\n",
    "    print clf, label\n",
    "    \n",
    "    for each in df.ix[(df[\"clf\"]==clf) & (df[\"label\"]==label)][\"features\"].tolist()[0]:\n",
    "        print each"
   ]
  },
  {
   "cell_type": "code",
   "execution_count": 17,
   "metadata": {
    "collapsed": false
   },
   "outputs": [
    {
     "name": "stdout",
     "output_type": "stream",
     "text": [
      "Bernoulli NB General Tweets \n",
      "(Count Vectorized)\n",
      "miss\n",
      "just\n",
      "want\n",
      "like\n",
      "sorry\n",
      "time\n",
      "love\n",
      "know\n",
      "really\n",
      "today\n",
      "Bernoulli NB Airline Tweets \n",
      "(Count Vectorized)\n",
      "cancelled\n",
      "service\n",
      "hours\n",
      "customer\n",
      "hold\n",
      "time\n",
      "just\n",
      "delayed\n",
      "help\n",
      "hour\n"
     ]
    }
   ],
   "source": [
    "print_top_unigrams(results, \"Bernoulli NB\", \"General Tweets \\n(Count Vectorized)\")\n",
    "print_top_unigrams(results, \"Bernoulli NB\", \"Airline Tweets \\n(Count Vectorized)\")"
   ]
  },
  {
   "cell_type": "code",
   "execution_count": 18,
   "metadata": {
    "collapsed": true
   },
   "outputs": [],
   "source": []
  },
  {
   "cell_type": "code",
   "execution_count": null,
   "metadata": {
    "collapsed": false
   },
   "outputs": [],
   "source": []
  },
  {
   "cell_type": "code",
   "execution_count": null,
   "metadata": {
    "collapsed": true
   },
   "outputs": [],
   "source": []
  }
 ],
 "metadata": {
  "kernelspec": {
   "display_name": "Python 2",
   "language": "python",
   "name": "python2"
  },
  "language_info": {
   "codemirror_mode": {
    "name": "ipython",
    "version": 2
   },
   "file_extension": ".py",
   "mimetype": "text/x-python",
   "name": "python",
   "nbconvert_exporter": "python",
   "pygments_lexer": "ipython2",
   "version": "2.7.10"
  }
 },
 "nbformat": 4,
 "nbformat_minor": 0
}
