{
 "cells": [
  {
   "cell_type": "markdown",
   "metadata": {},
   "source": [
    "### Clean & Prepprocess Crowdflower Data Prior to Model Training\n",
    "A Super Handy CrowdFlower Glossary of Terms can be found [here](https://success.crowdflower.com/hc/en-us/articles/202703305-Glossary-of-Terms)!"
   ]
  },
  {
   "cell_type": "code",
   "execution_count": 1,
   "metadata": {
    "collapsed": false
   },
   "outputs": [],
   "source": [
    "import numpy as np\n",
    "import pandas as pd\n",
    "import seaborn as sns\n",
    "from matplotlib import pyplot as plt\n",
    "%matplotlib inline"
   ]
  },
  {
   "cell_type": "markdown",
   "metadata": {},
   "source": [
    "#### Read-In Jobs-Level Data (from CrowdFlower's *Data for Everyone* [library](https://www.crowdflower.com/data-for-everyone/))"
   ]
  },
  {
   "cell_type": "code",
   "execution_count": 2,
   "metadata": {
    "collapsed": false
   },
   "outputs": [
    {
     "name": "stdout",
     "output_type": "stream",
     "text": [
      "Index([u'_unit_id', u'_created_at', u'_golden', u'_id', u'_missed',\n",
      "       u'_started_at', u'_tainted', u'_channel', u'_trust', u'_worker_id',\n",
      "       u'_country', u'_region', u'_city', u'_ip', u'airline_sentiment',\n",
      "       u'negativereason', u'airline', u'airline_sentiment_gold', u'name',\n",
      "       u'negativereason_gold', u'retweet_count', u'text', u'tweet_coord',\n",
      "       u'tweet_created', u'tweet_id', u'tweet_location', u'user_timezone'],\n",
      "      dtype='object')\n"
     ]
    },
    {
     "data": {
      "text/html": [
       "<div>\n",
       "<table border=\"1\" class=\"dataframe\">\n",
       "  <thead>\n",
       "    <tr style=\"text-align: right;\">\n",
       "      <th></th>\n",
       "      <th>_unit_id</th>\n",
       "      <th>_created_at</th>\n",
       "      <th>_golden</th>\n",
       "      <th>_id</th>\n",
       "      <th>_missed</th>\n",
       "      <th>_started_at</th>\n",
       "      <th>_tainted</th>\n",
       "      <th>_channel</th>\n",
       "      <th>_trust</th>\n",
       "      <th>_worker_id</th>\n",
       "      <th>...</th>\n",
       "      <th>airline_sentiment_gold</th>\n",
       "      <th>name</th>\n",
       "      <th>negativereason_gold</th>\n",
       "      <th>retweet_count</th>\n",
       "      <th>text</th>\n",
       "      <th>tweet_coord</th>\n",
       "      <th>tweet_created</th>\n",
       "      <th>tweet_id</th>\n",
       "      <th>tweet_location</th>\n",
       "      <th>user_timezone</th>\n",
       "    </tr>\n",
       "  </thead>\n",
       "  <tbody>\n",
       "    <tr>\n",
       "      <th>0</th>\n",
       "      <td>681448150</td>\n",
       "      <td>2/25/2015 04:52:40</td>\n",
       "      <td>False</td>\n",
       "      <td>1575073003</td>\n",
       "      <td>NaN</td>\n",
       "      <td>2/25/2015 04:49:12</td>\n",
       "      <td>False</td>\n",
       "      <td>elite</td>\n",
       "      <td>0.8108</td>\n",
       "      <td>31110645</td>\n",
       "      <td>...</td>\n",
       "      <td>NaN</td>\n",
       "      <td>cairdin</td>\n",
       "      <td>NaN</td>\n",
       "      <td>0</td>\n",
       "      <td>@VirginAmerica What @dhepburn said.</td>\n",
       "      <td>NaN</td>\n",
       "      <td>2015-02-24 11:35:52 -0800</td>\n",
       "      <td>570306133677760513</td>\n",
       "      <td>NaN</td>\n",
       "      <td>Eastern Time (US &amp; Canada)</td>\n",
       "    </tr>\n",
       "    <tr>\n",
       "      <th>1</th>\n",
       "      <td>681448150</td>\n",
       "      <td>2/25/2015 05:22:10</td>\n",
       "      <td>False</td>\n",
       "      <td>1575093916</td>\n",
       "      <td>NaN</td>\n",
       "      <td>2/25/2015 05:19:59</td>\n",
       "      <td>False</td>\n",
       "      <td>prodege</td>\n",
       "      <td>0.8919</td>\n",
       "      <td>1908948</td>\n",
       "      <td>...</td>\n",
       "      <td>NaN</td>\n",
       "      <td>cairdin</td>\n",
       "      <td>NaN</td>\n",
       "      <td>0</td>\n",
       "      <td>@VirginAmerica What @dhepburn said.</td>\n",
       "      <td>NaN</td>\n",
       "      <td>2015-02-24 11:35:52 -0800</td>\n",
       "      <td>570306133677760513</td>\n",
       "      <td>NaN</td>\n",
       "      <td>Eastern Time (US &amp; Canada)</td>\n",
       "    </tr>\n",
       "  </tbody>\n",
       "</table>\n",
       "<p>2 rows × 27 columns</p>\n",
       "</div>"
      ],
      "text/plain": [
       "    _unit_id         _created_at _golden         _id _missed  \\\n",
       "0  681448150  2/25/2015 04:52:40   False  1575073003     NaN   \n",
       "1  681448150  2/25/2015 05:22:10   False  1575093916     NaN   \n",
       "\n",
       "          _started_at _tainted _channel  _trust  _worker_id  \\\n",
       "0  2/25/2015 04:49:12    False    elite  0.8108    31110645   \n",
       "1  2/25/2015 05:19:59    False  prodege  0.8919     1908948   \n",
       "\n",
       "              ...             airline_sentiment_gold     name  \\\n",
       "0             ...                                NaN  cairdin   \n",
       "1             ...                                NaN  cairdin   \n",
       "\n",
       "  negativereason_gold retweet_count                                 text  \\\n",
       "0                 NaN             0  @VirginAmerica What @dhepburn said.   \n",
       "1                 NaN             0  @VirginAmerica What @dhepburn said.   \n",
       "\n",
       "  tweet_coord              tweet_created            tweet_id tweet_location  \\\n",
       "0         NaN  2015-02-24 11:35:52 -0800  570306133677760513            NaN   \n",
       "1         NaN  2015-02-24 11:35:52 -0800  570306133677760513            NaN   \n",
       "\n",
       "                user_timezone  \n",
       "0  Eastern Time (US & Canada)  \n",
       "1  Eastern Time (US & Canada)  \n",
       "\n",
       "[2 rows x 27 columns]"
      ]
     },
     "execution_count": 2,
     "metadata": {},
     "output_type": "execute_result"
    }
   ],
   "source": [
    "cf = pd.read_csv(\"http://cdn2.hubspot.net/hub/346378/file-2612489700-csv/DFE_CSVs/Airline-Full-Non-Ag-DFE-Sentiment.csv\")\n",
    "print cf.columns\n",
    "cf.head(2)"
   ]
  },
  {
   "cell_type": "markdown",
   "metadata": {
    "collapsed": true
   },
   "source": [
    "#### Split Test (i.e. Golden Tweets) out from the non-test tweets.\n",
    "(We already know the \"correct\" answers for the Test tweets, so we can process those seperately.)"
   ]
  },
  {
   "cell_type": "code",
   "execution_count": 16,
   "metadata": {
    "collapsed": false
   },
   "outputs": [
    {
     "name": "stdout",
     "output_type": "stream",
     "text": [
      "(11997, 27) (43786, 27)\n"
     ]
    }
   ],
   "source": [
    "gold =   cf[cf._golden==True].copy()\n",
    "nogold = cf[cf._golden==False].copy()\n",
    "\n",
    "print gold.shape, nogold.shape"
   ]
  },
  {
   "cell_type": "markdown",
   "metadata": {},
   "source": [
    "#### Process \"Test\" Tweets - Use \"Correct\" Sentiment & Topics"
   ]
  },
  {
   "cell_type": "code",
   "execution_count": null,
   "metadata": {
    "collapsed": true
   },
   "outputs": [],
   "source": []
  },
  {
   "cell_type": "code",
   "execution_count": null,
   "metadata": {
    "collapsed": true
   },
   "outputs": [],
   "source": []
  },
  {
   "cell_type": "markdown",
   "metadata": {},
   "source": [
    "#### Process Non-Test Tweets"
   ]
  },
  {
   "cell_type": "markdown",
   "metadata": {},
   "source": [
    "##### Clean Airline Sentiment (Positive/Neutral or Negative) Label"
   ]
  },
  {
   "cell_type": "code",
   "execution_count": 17,
   "metadata": {
    "collapsed": false
   },
   "outputs": [
    {
     "data": {
      "text/plain": [
       "negative    26919\n",
       "neutral      9742\n",
       "positive     7125\n",
       "Name: airline_sentiment, dtype: int64"
      ]
     },
     "execution_count": 17,
     "metadata": {},
     "output_type": "execute_result"
    }
   ],
   "source": [
    "nogold.airline_sentiment.value_counts(dropna=False)"
   ]
  },
  {
   "cell_type": "code",
   "execution_count": 18,
   "metadata": {
    "collapsed": false
   },
   "outputs": [
    {
     "data": {
      "text/plain": [
       "-1    26919\n",
       " 1    16867\n",
       "Name: airline_sentiment, dtype: int64"
      ]
     },
     "execution_count": 18,
     "metadata": {},
     "output_type": "execute_result"
    }
   ],
   "source": [
    "##Convert Text Labels into numeric and pool postitive and neutral\n",
    "nogold.airline_sentiment.replace([\"positive\", \"neutral\", \"negative\"], [1, 1, -1], inplace=True)\n",
    "nogold.airline_sentiment.value_counts()"
   ]
  },
  {
   "cell_type": "code",
   "execution_count": 19,
   "metadata": {
    "collapsed": false
   },
   "outputs": [
    {
     "data": {
      "text/html": [
       "<div>\n",
       "<table border=\"1\" class=\"dataframe\">\n",
       "  <thead>\n",
       "    <tr style=\"text-align: right;\">\n",
       "      <th></th>\n",
       "      <th>tweet_id</th>\n",
       "      <th>text</th>\n",
       "      <th>airline_sentiment</th>\n",
       "      <th>_trust</th>\n",
       "    </tr>\n",
       "  </thead>\n",
       "  <tbody>\n",
       "    <tr>\n",
       "      <th>0</th>\n",
       "      <td>567588278875213824</td>\n",
       "      <td>@JetBlue's new CEO seeks the right balance to ...</td>\n",
       "      <td>1</td>\n",
       "      <td>2.7027</td>\n",
       "    </tr>\n",
       "    <tr>\n",
       "      <th>1</th>\n",
       "      <td>567590027375702016</td>\n",
       "      <td>@JetBlue is REALLY getting on my nerves !! 😡�...</td>\n",
       "      <td>-1</td>\n",
       "      <td>2.7494</td>\n",
       "    </tr>\n",
       "    <tr>\n",
       "      <th>2</th>\n",
       "      <td>567591480085463040</td>\n",
       "      <td>@united yes. We waited in line for almost an h...</td>\n",
       "      <td>-1</td>\n",
       "      <td>2.5777</td>\n",
       "    </tr>\n",
       "    <tr>\n",
       "      <th>3</th>\n",
       "      <td>567592368451248130</td>\n",
       "      <td>@united the we got into the gate at IAH on tim...</td>\n",
       "      <td>-1</td>\n",
       "      <td>2.5215</td>\n",
       "    </tr>\n",
       "    <tr>\n",
       "      <th>4</th>\n",
       "      <td>567594449874587648</td>\n",
       "      <td>@SouthwestAir its cool that my bags take a bit...</td>\n",
       "      <td>-1</td>\n",
       "      <td>2.5058</td>\n",
       "    </tr>\n",
       "    <tr>\n",
       "      <th>5</th>\n",
       "      <td>567594579310825473</td>\n",
       "      <td>@united and don't hope for me having a nicer f...</td>\n",
       "      <td>-1</td>\n",
       "      <td>2.6997</td>\n",
       "    </tr>\n",
       "    <tr>\n",
       "      <th>6</th>\n",
       "      <td>567595670463205376</td>\n",
       "      <td>@united I like delays less than you because I'...</td>\n",
       "      <td>-1</td>\n",
       "      <td>2.5135</td>\n",
       "    </tr>\n",
       "    <tr>\n",
       "      <th>7</th>\n",
       "      <td>567614049425555457</td>\n",
       "      <td>@united, link to current status of flights/air...</td>\n",
       "      <td>-1</td>\n",
       "      <td>2.5157</td>\n",
       "    </tr>\n",
       "    <tr>\n",
       "      <th>8</th>\n",
       "      <td>567617081336950784</td>\n",
       "      <td>@SouthwestAir you guys there? Are we on hour 2...</td>\n",
       "      <td>-1</td>\n",
       "      <td>2.6075</td>\n",
       "    </tr>\n",
       "    <tr>\n",
       "      <th>9</th>\n",
       "      <td>567617486703853568</td>\n",
       "      <td>@united I tried 2 DM it would not go thru... n...</td>\n",
       "      <td>-1</td>\n",
       "      <td>2.2953</td>\n",
       "    </tr>\n",
       "  </tbody>\n",
       "</table>\n",
       "</div>"
      ],
      "text/plain": [
       "             tweet_id                                               text  \\\n",
       "0  567588278875213824  @JetBlue's new CEO seeks the right balance to ...   \n",
       "1  567590027375702016  @JetBlue is REALLY getting on my nerves !! 😡�...   \n",
       "2  567591480085463040  @united yes. We waited in line for almost an h...   \n",
       "3  567592368451248130  @united the we got into the gate at IAH on tim...   \n",
       "4  567594449874587648  @SouthwestAir its cool that my bags take a bit...   \n",
       "5  567594579310825473  @united and don't hope for me having a nicer f...   \n",
       "6  567595670463205376  @united I like delays less than you because I'...   \n",
       "7  567614049425555457  @united, link to current status of flights/air...   \n",
       "8  567617081336950784  @SouthwestAir you guys there? Are we on hour 2...   \n",
       "9  567617486703853568  @united I tried 2 DM it would not go thru... n...   \n",
       "\n",
       "   airline_sentiment  _trust  \n",
       "0                  1  2.7027  \n",
       "1                 -1  2.7494  \n",
       "2                 -1  2.5777  \n",
       "3                 -1  2.5215  \n",
       "4                 -1  2.5058  \n",
       "5                 -1  2.6997  \n",
       "6                 -1  2.5135  \n",
       "7                 -1  2.5157  \n",
       "8                 -1  2.6075  \n",
       "9                 -1  2.2953  "
      ]
     },
     "execution_count": 19,
     "metadata": {},
     "output_type": "execute_result"
    }
   ],
   "source": [
    "##Aggregate to the tweet-level. Allow for duplicates where multiple taskers flagged differently.\n",
    "t_sentiment = nogold.groupby(by=[\"tweet_id\",\"text\",\"airline_sentiment\"], as_index=False)\\\n",
    "[[\"tweet_id\",\"text\",\"airline_sentiment\",\"_trust\"]].sum()\n",
    "\n",
    "t_sentiment.head(10)"
   ]
  },
  {
   "cell_type": "code",
   "execution_count": 7,
   "metadata": {
    "collapsed": false
   },
   "outputs": [
    {
     "name": "stdout",
     "output_type": "stream",
     "text": [
      "False    14455\n",
      "True      3115\n",
      "dtype: int64\n"
     ]
    }
   ],
   "source": [
    "print t_sentiment.duplicated(\"tweet_id\").value_counts() ##N = 3,115 (~22%) Tweets marked as both Pos and Neg"
   ]
  },
  {
   "cell_type": "markdown",
   "metadata": {},
   "source": [
    "#### Output Sample \"Ambiguous\" Tweets for Handcoding"
   ]
  },
  {
   "cell_type": "code",
   "execution_count": 29,
   "metadata": {
    "collapsed": false
   },
   "outputs": [],
   "source": [
    "t_sample = t_sentiment[t_sentiment.duplicated(\"tweet_id\")==True].sample(frac=0.15, replace=False, random_state=4444)\n",
    "t_sample[[\"tweet_id\",\"text\"]].to_csv(\"ambigous_sentiment_hand_coded.csv\", index=False)"
   ]
  },
  {
   "cell_type": "code",
   "execution_count": null,
   "metadata": {
    "collapsed": true
   },
   "outputs": [],
   "source": []
  },
  {
   "cell_type": "code",
   "execution_count": null,
   "metadata": {
    "collapsed": true
   },
   "outputs": [],
   "source": []
  },
  {
   "cell_type": "code",
   "execution_count": null,
   "metadata": {
    "collapsed": true
   },
   "outputs": [],
   "source": []
  },
  {
   "cell_type": "code",
   "execution_count": 9,
   "metadata": {
    "collapsed": false
   },
   "outputs": [
    {
     "data": {
      "text/html": [
       "<div>\n",
       "<table border=\"1\" class=\"dataframe\">\n",
       "  <thead>\n",
       "    <tr style=\"text-align: right;\">\n",
       "      <th></th>\n",
       "      <th>airline_sentiment</th>\n",
       "      <th>-1</th>\n",
       "      <th>1</th>\n",
       "    </tr>\n",
       "    <tr>\n",
       "      <th>tweet_id</th>\n",
       "      <th>text</th>\n",
       "      <th></th>\n",
       "      <th></th>\n",
       "    </tr>\n",
       "  </thead>\n",
       "  <tbody>\n",
       "    <tr>\n",
       "      <th>567588278875213824</th>\n",
       "      <th>@JetBlue's new CEO seeks the right balance to please passengers and Wall ... - Greenfield Daily Reporter http://t.co/LM3opxkxch</th>\n",
       "      <td>NaN</td>\n",
       "      <td>2.7027</td>\n",
       "    </tr>\n",
       "    <tr>\n",
       "      <th>567590027375702016</th>\n",
       "      <th>@JetBlue is REALLY getting on my nerves !! 😡😡 #nothappy</th>\n",
       "      <td>2.7494</td>\n",
       "      <td>NaN</td>\n",
       "    </tr>\n",
       "    <tr>\n",
       "      <th>567591480085463040</th>\n",
       "      <th>@united yes. We waited in line for almost an hour to do so. Some passengers just left not wanting to wait past 1am.</th>\n",
       "      <td>2.5777</td>\n",
       "      <td>NaN</td>\n",
       "    </tr>\n",
       "    <tr>\n",
       "      <th>567592368451248130</th>\n",
       "      <th>@united the we got into the gate at IAH on time and have given our seats and closed the flight. If you know people is arriving, have to wait</th>\n",
       "      <td>2.5215</td>\n",
       "      <td>NaN</td>\n",
       "    </tr>\n",
       "    <tr>\n",
       "      <th>567594449874587648</th>\n",
       "      <th>@SouthwestAir its cool that my bags take a bit longer, dont give me baggage blue balls-turn the carousel on, tell me it's coming, then not.</th>\n",
       "      <td>2.5058</td>\n",
       "      <td>NaN</td>\n",
       "    </tr>\n",
       "  </tbody>\n",
       "</table>\n",
       "</div>"
      ],
      "text/plain": [
       "airline_sentiment                                                          -1  \\\n",
       "tweet_id           text                                                         \n",
       "567588278875213824 @JetBlue's new CEO seeks the right balance to p...     NaN   \n",
       "567590027375702016 @JetBlue is REALLY getting on my nerves !! 😡😡...  2.7494   \n",
       "567591480085463040 @united yes. We waited in line for almost an ho...  2.5777   \n",
       "567592368451248130 @united the we got into the gate at IAH on time...  2.5215   \n",
       "567594449874587648 @SouthwestAir its cool that my bags take a bit ...  2.5058   \n",
       "\n",
       "airline_sentiment                                                           1  \n",
       "tweet_id           text                                                        \n",
       "567588278875213824 @JetBlue's new CEO seeks the right balance to p...  2.7027  \n",
       "567590027375702016 @JetBlue is REALLY getting on my nerves !! 😡😡...     NaN  \n",
       "567591480085463040 @united yes. We waited in line for almost an ho...     NaN  \n",
       "567592368451248130 @united the we got into the gate at IAH on time...     NaN  \n",
       "567594449874587648 @SouthwestAir its cool that my bags take a bit ...     NaN  "
      ]
     },
     "execution_count": 9,
     "metadata": {},
     "output_type": "execute_result"
    }
   ],
   "source": [
    "##Calculate Tweet \"score\"\n",
    "t_sentiment = t_sentiment.pivot_table(index=[\"tweet_id\",\"text\"], columns=\"airline_sentiment\", values=\"_trust\")\n",
    "t_sentiment.head(5)"
   ]
  },
  {
   "cell_type": "code",
   "execution_count": 13,
   "metadata": {
    "collapsed": false
   },
   "outputs": [],
   "source": [
    "t_sentiment[\"flag\"] = 0\n",
    "t_sentiment.ix[(t_sentiment[-1].notnull()) & (t_sentiment[1].notnull()), \"flag\"] = 1"
   ]
  },
  {
   "cell_type": "code",
   "execution_count": 14,
   "metadata": {
    "collapsed": false
   },
   "outputs": [
    {
     "data": {
      "text/plain": [
       "0    11340\n",
       "1     3115\n",
       "Name: flag, dtype: int64"
      ]
     },
     "execution_count": 14,
     "metadata": {},
     "output_type": "execute_result"
    }
   ],
   "source": [
    "t_sentiment[\"flag\"].value_counts()"
   ]
  },
  {
   "cell_type": "code",
   "execution_count": null,
   "metadata": {
    "collapsed": false
   },
   "outputs": [],
   "source": []
  },
  {
   "cell_type": "code",
   "execution_count": null,
   "metadata": {
    "collapsed": true
   },
   "outputs": [],
   "source": []
  },
  {
   "cell_type": "code",
   "execution_count": null,
   "metadata": {
    "collapsed": true
   },
   "outputs": [],
   "source": []
  },
  {
   "cell_type": "code",
   "execution_count": null,
   "metadata": {
    "collapsed": true
   },
   "outputs": [],
   "source": []
  },
  {
   "cell_type": "code",
   "execution_count": null,
   "metadata": {
    "collapsed": true
   },
   "outputs": [],
   "source": []
  },
  {
   "cell_type": "code",
   "execution_count": null,
   "metadata": {
    "collapsed": true
   },
   "outputs": [],
   "source": []
  },
  {
   "cell_type": "code",
   "execution_count": null,
   "metadata": {
    "collapsed": false
   },
   "outputs": [],
   "source": []
  },
  {
   "cell_type": "code",
   "execution_count": null,
   "metadata": {
    "collapsed": false
   },
   "outputs": [],
   "source": []
  },
  {
   "cell_type": "code",
   "execution_count": null,
   "metadata": {
    "collapsed": true
   },
   "outputs": [],
   "source": []
  }
 ],
 "metadata": {
  "kernelspec": {
   "display_name": "Python 2",
   "language": "python",
   "name": "python2"
  },
  "language_info": {
   "codemirror_mode": {
    "name": "ipython",
    "version": 2
   },
   "file_extension": ".py",
   "mimetype": "text/x-python",
   "name": "python",
   "nbconvert_exporter": "python",
   "pygments_lexer": "ipython2",
   "version": "2.7.10"
  }
 },
 "nbformat": 4,
 "nbformat_minor": 0
}
