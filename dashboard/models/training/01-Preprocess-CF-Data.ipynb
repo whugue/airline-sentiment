{
 "cells": [
  {
   "cell_type": "markdown",
   "metadata": {},
   "source": [
    "## Clean & Preprocess Crowdflower Data Prior to Model Training\n",
    "A Super Handy CrowdFlower Glossary of Terms can be found [here](https://success.crowdflower.com/hc/en-us/articles/202703305-Glossary-of-Terms)!"
   ]
  },
  {
   "cell_type": "code",
   "execution_count": null,
   "metadata": {
    "collapsed": false
   },
   "outputs": [],
   "source": [
    "import numpy as np\n",
    "import pandas as pd\n",
    "import seaborn as sns\n",
    "from matplotlib import pyplot as plt\n",
    "%matplotlib inline\n",
    "\n",
    "from sklearn.preprocessing import StandardScaler\n",
    "from sklearn.cross_validation import train_test_split\n",
    "from sklearn.pipeline import Pipeline\n",
    "from sklearn.grid_search import GridSearchCV\n",
    "from sklearn.neighbors import KNeighborsClassifier\n",
    "from sklearn.linear_model import LogisticRegression\n",
    "from sklearn.svm import LinearSVC\n",
    "from sklearn.tree import DecisionTreeClassifier\n",
    "from sklearn.metrics import accuracy_score"
   ]
  },
  {
   "cell_type": "markdown",
   "metadata": {},
   "source": [
    "### Read-In Jobs-Level Data (from CrowdFlower's *Data for Everyone* [library](https://www.crowdflower.com/data-for-everyone/))"
   ]
  },
  {
   "cell_type": "code",
   "execution_count": null,
   "metadata": {
    "collapsed": false
   },
   "outputs": [],
   "source": [
    "cf = pd.read_csv(\"http://cdn2.hubspot.net/hub/346378/file-2612489700-csv/DFE_CSVs/Airline-Full-Non-Ag-DFE-Sentiment.csv\")\n",
    "print cf.columns\n",
    "cf.head(2)"
   ]
  },
  {
   "cell_type": "markdown",
   "metadata": {},
   "source": [
    "### Create Airline Sentiment Label\n",
    "* If all workers marked the same sentiment, use that sentiment. \n",
    "* Otherwise, predict sentiment based on probability tweet is negative (e.g. SUM(trust of workers marking negative/ SUM(trust of all workers)))"
   ]
  },
  {
   "cell_type": "markdown",
   "metadata": {},
   "source": [
    "#### Aggregate Data up to Tweet Level"
   ]
  },
  {
   "cell_type": "code",
   "execution_count": null,
   "metadata": {
    "collapsed": true
   },
   "outputs": [],
   "source": [
    "def sum_and_split_tweet(df):\n",
    "    df.replace([\"positive\",\"neutral\",\"negative\"], [1,0,-1], inplace=True)\n",
    "    \n",
    "    df = df.groupby(by=[\"tweet_id\",\"text\",\"airline_sentiment\",\"_golden\"], as_index=False)[\"_trust\"].sum()\n",
    "    \n",
    "    ##still in progress. start coding here..."
   ]
  },
  {
   "cell_type": "code",
   "execution_count": null,
   "metadata": {
    "collapsed": true
   },
   "outputs": [],
   "source": []
  },
  {
   "cell_type": "code",
   "execution_count": null,
   "metadata": {
    "collapsed": true
   },
   "outputs": [],
   "source": [
    "def sum_and_split_tweet(df):\n",
    "    cf.replace([\"positive\",\"neutral\",\"negative\"], [1,0,-1], inplace=True)\n",
    "    \n",
    "    df = df.\n",
    "    \n",
    "    df = df.pivot_table(index=[\"tweet_id\",\"text\",\"_golden\"], columns=\"airline_sentiment\", values=\"_trust\", aggfunc=np.sum)\n",
    "    \n",
    "    df.reset_index(inplace=True)\n",
    "    df[\"dup_flag\"] = df.duplicated(\"tweet_id\", keep=False)\n",
    "    \n",
    "    gold = df[df._golden==True].copy()[[\"tweet_id\",\"text\",\"positive\",\"neutral\",\"negative\"]].copy()\n",
    "    nogold = df[(df._golden==False) & (df.dup_flag==False)][[\"tweet_id\",\"text\",\"\"]]\n",
    "    \n",
    "    return gold, nogold"
   ]
  },
  {
   "cell_type": "code",
   "execution_count": null,
   "metadata": {
    "collapsed": false
   },
   "outputs": [],
   "source": [
    "cf_g, cf_ng = pivot_tweets(cf)\n",
    "\n",
    "print \"Total Number of Judgements: \", cf.shape[0]\n",
    "print \"Total Number of Tweets:     \", len(cf.tweet_id.unique())\n",
    "print \"Number of Test Tweets:      \", len(cf_g.tweet_id.unique())\n",
    "print \"Number of Non-Test Tweets:  \", len(cf_ng.tweet_id.unique())"
   ]
  },
  {
   "cell_type": "code",
   "execution_count": null,
   "metadata": {
    "collapsed": false
   },
   "outputs": [],
   "source": [
    "print cf_ng.columns"
   ]
  },
  {
   "cell_type": "code",
   "execution_count": null,
   "metadata": {
    "collapsed": true
   },
   "outputs": [],
   "source": [
    "    \n",
    "    \n",
    "def score_tweets(df):    \n",
    "\n",
    "    ##Calculate Tweet Scores\n",
    "    df[-1].replace(np.nan, 0, inplace=True)\n",
    "    df[1].replace(np.nan, 0, inplace=True)\n",
    "    df[\"prob_neg\"] = df[-1]/ (df[-1]+df[1])\n",
    "    \n",
    "    df[\"airline_sentiment\"] = np.nan\n",
    "    df[df.prob_neg==0.0, \"airline_sentiment\"] = 1\n",
    "    df[df.prob_neg==1.0, \"airline_sentiment\"] = -1\n",
    "   \n",
    "    unambig = df[df.airline_sentiment.notnull()][\"tweet_id\",\"text\",\"airline_sentiment\"]\n",
    "    ambig = df[df.airline_sentiment.isnull()][\"tweet_id\",\"text\",\"prob_neg\"]\n",
    "    \n",
    "    return umambig, ambig"
   ]
  },
  {
   "cell_type": "code",
   "execution_count": null,
   "metadata": {
    "collapsed": true
   },
   "outputs": [],
   "source": [
    "print cf.drop_duplicates([\"_unit_id\",\"tweet_id\"]).duplicated(\"_unit_id\").value_counts() #No Duplicates"
   ]
  },
  {
   "cell_type": "code",
   "execution_count": null,
   "metadata": {
    "collapsed": true
   },
   "outputs": [],
   "source": []
  },
  {
   "cell_type": "code",
   "execution_count": null,
   "metadata": {
    "collapsed": true
   },
   "outputs": [],
   "source": []
  },
  {
   "cell_type": "markdown",
   "metadata": {
    "collapsed": true
   },
   "source": [
    "### Split Test (i.e. Golden Tweets) out from the non-test tweets.\n",
    "(We already know the \"correct\" answers for the Test tweets, so we can process those seperately.)"
   ]
  },
  {
   "cell_type": "code",
   "execution_count": null,
   "metadata": {
    "collapsed": false
   },
   "outputs": [],
   "source": [
    "cf_g =  cf[cf._golden==True].copy()\n",
    "cf_ng = cf[cf._golden==False].copy()\n",
    "\n",
    "print \"Total Number of Judgements: \", cf.shape[0]\n",
    "print \"Total Number of Tweets:     \", len(cf.tweet_id.unique())\n",
    "print \"Number of Test Tweets:      \", len(cf_g.tweet_id.unique())\n",
    "print \"Number of Non-Test Tweets:  \", len(cf_ng.tweet_id.unique())"
   ]
  },
  {
   "cell_type": "code",
   "execution_count": null,
   "metadata": {
    "collapsed": false
   },
   "outputs": [],
   "source": [
    "print cf.drop_duplicates([\"tweet_id\",\"_golden\"]).duplicated(\"tweet_id\").value_counts() #No Duplicates"
   ]
  },
  {
   "cell_type": "code",
   "execution_count": null,
   "metadata": {
    "collapsed": false
   },
   "outputs": [],
   "source": [
    "test=cf.drop_duplicates([\"tweet_id\",\"_golden\"])\n",
    "test[\"dups\"] = cf.duplicated(\"tweet_id\")\n",
    "\n",
    "test[test.dups==True][\"tweet_id\"]"
   ]
  },
  {
   "cell_type": "code",
   "execution_count": null,
   "metadata": {
    "collapsed": false
   },
   "outputs": [],
   "source": []
  },
  {
   "cell_type": "code",
   "execution_count": null,
   "metadata": {
    "collapsed": true
   },
   "outputs": [],
   "source": []
  },
  {
   "cell_type": "markdown",
   "metadata": {},
   "source": [
    "#### Process \"Test\" Tweets - Use \"Correct\" Sentiment & Topics"
   ]
  },
  {
   "cell_type": "code",
   "execution_count": null,
   "metadata": {
    "collapsed": true
   },
   "outputs": [],
   "source": [
    "##Do this later :)"
   ]
  },
  {
   "cell_type": "code",
   "execution_count": null,
   "metadata": {
    "collapsed": true
   },
   "outputs": [],
   "source": []
  },
  {
   "cell_type": "markdown",
   "metadata": {},
   "source": [
    "#### Process Non-Test Tweets: Clean Airline Sentiment  Label"
   ]
  },
  {
   "cell_type": "code",
   "execution_count": null,
   "metadata": {
    "collapsed": false
   },
   "outputs": [],
   "source": [
    "cf_ng.airline_sentiment.value_counts(dropna=False)"
   ]
  },
  {
   "cell_type": "code",
   "execution_count": null,
   "metadata": {
    "collapsed": false
   },
   "outputs": [],
   "source": [
    "##Convert Text Labels into numeric and pool postitive and neutral\n",
    "cf_ng.airline_sentiment.replace([\"positive\", \"neutral\", \"negative\"], [1, 1, -1], inplace=True)\n",
    "cf_ng.airline_sentiment.value_counts()"
   ]
  },
  {
   "cell_type": "code",
   "execution_count": null,
   "metadata": {
    "collapsed": true
   },
   "outputs": [],
   "source": [
    "##Function to Aggregate Data to Tweet-Level & Score Tweets \n",
    "##0=Absolutely Positive, -1=Absolutely Negative\n",
    "##Score= 0.01- 0.99 -> Ambiguous (closer to 1, more likely to be negative)\n",
    "def score_tweets(df):\n",
    "    df = df.pivot_table(index=[\"tweet_id\",\"text\"], columns=\"airline_sentiment\", values=\"_trust\", aggfunc=np.sum)\n",
    "    df.reset_index(inplace=True)\n",
    "    \n",
    "    ##Calculate Tweet Scores\n",
    "    df[-1].replace(np.nan, 0, inplace=True)\n",
    "    df[1].replace(np.nan, 0, inplace=True)\n",
    "    df[\"prob_neg\"] = df[-1]/ (df[-1]+df[1])\n",
    "    \n",
    "    df[\"airline_sentiment\"] = np.nan\n",
    "    df[df.prob_neg==0.0, \"airline_sentiment\"] = 1\n",
    "    df[df.prob_neg==1.0, \"airline_sentiment\"] = -1\n",
    "   \n",
    "    unambig = df[df.airline_sentiment.notnull()][\"tweet_id\",\"text\",\"airline_sentiment\"]\n",
    "    ambig = df[df.airline_sentiment.isnull()][\"tweet_id\",\"text\",\"prob_neg\"]\n",
    "    \n",
    "    return umambig, ambig\n",
    "\n",
    "\n",
    "##Function to sample ambiguous sentiment tweets for hand-coding.\n",
    "def output_hand_codes(df):\n",
    "    samp = df.sample(frac=0.15, replace=False, random_state=4444)[[\"tweet_id\",\"text\"]]\n",
    "    samp.to_csv(outfile, index=False)\n",
    "\n",
    "    \n",
    "##Function to Create Training Data\n",
    "def input_hand_codes(df, infile):\n",
    "    hc = pd.read_csv(infile)[[\"tweet_id\",\"airline_sentiment\"]] #Read in Hand Coded Tweets\n",
    "    hc[\"hand_coded\"] = 1 #flag hand coded tweets\n",
    "    \n",
    "    merged = pd.merge(df, hc, on=\"tweet_id\", how=\"left\") #merge data\n",
    "    \n",
    "    return merged[merged.hand_coded.notnull()], merged[merged.hand_coded.isnull()]"
   ]
  },
  {
   "cell_type": "code",
   "execution_count": null,
   "metadata": {
    "collapsed": true
   },
   "outputs": [],
   "source": [
    "##Score Tweets & Seperate Tweets with \"ambiguous\" sentiment (rated differently by different raters) from Umambig ones\n",
    "cf_ng_unambig, cf_ng_ambig = score_tweets(cf_ng)\n",
    "\n",
    "print \"\""
   ]
  },
  {
   "cell_type": "code",
   "execution_count": null,
   "metadata": {
    "collapsed": false
   },
   "outputs": [],
   "source": [
    "##Output 15%\n",
    "#output_hand_codes(cf_ng_unambig, \"ambiguous_sentiment_hand_coded.csv\") #Output Hand Coding File\n",
    "\n",
    "cf_ng_un_labled, cf_ng_un_unlabled = input_hand_codes(cf_ng_ambig, \"ambiguous_sentiment_hand_coded.csv\")\n",
    "\n",
    "\n",
    "\n",
    "\n",
    "input_hand_codes(cf_ng_unambig, \"ambiguous_sentiment_hand_coded.csv\")\n",
    "cf_ng_train, cf_ng_test = train_test_split(cf_ng_model, test_size=0.2, random_state=4444)"
   ]
  },
  {
   "cell_type": "code",
   "execution_count": null,
   "metadata": {
    "collapsed": true
   },
   "outputs": [],
   "source": []
  },
  {
   "cell_type": "code",
   "execution_count": null,
   "metadata": {
    "collapsed": false
   },
   "outputs": [],
   "source": [
    "##Train Models to Optimally Classify Tweets based on Tweet Score\n",
    "def train_models(df, pipe, grid):\n",
    "    X = df[\"tweet_score\"]\n",
    "    y = df[\"airline_sentiment\"]\n",
    "    \n",
    "    pipe = Pipeline(pipe)\n",
    "    gs = GridSearchCV(estimator=pipe, param_grid=grid, scoring=\"accuracy\", cv=10, n_jobs=-1)\n",
    "    \n",
    "    return gs.fit(X, y)"
   ]
  },
  {
   "cell_type": "markdown",
   "metadata": {
    "collapsed": false
   },
   "source": [
    "### TO DO: Add back in Neutral\n",
    "1. Re-score hand matches to include neutral\n",
    "2. Reprogram - Still use disaggregated file to determine split between negative/ other needed to model tweets, figure out model (2 features, prob negative, prob pos, prob neautral excluded).\n",
    "3. Compare to CF markings in aggregated file (simple weighted majority rules)."
   ]
  },
  {
   "cell_type": "code",
   "execution_count": null,
   "metadata": {
    "collapsed": true
   },
   "outputs": [],
   "source": []
  },
  {
   "cell_type": "code",
   "execution_count": null,
   "metadata": {
    "collapsed": true
   },
   "outputs": [],
   "source": []
  },
  {
   "cell_type": "code",
   "execution_count": null,
   "metadata": {
    "collapsed": true
   },
   "outputs": [],
   "source": []
  },
  {
   "cell_type": "code",
   "execution_count": null,
   "metadata": {
    "collapsed": false
   },
   "outputs": [],
   "source": []
  },
  {
   "cell_type": "code",
   "execution_count": null,
   "metadata": {
    "collapsed": false
   },
   "outputs": [],
   "source": []
  },
  {
   "cell_type": "code",
   "execution_count": null,
   "metadata": {
    "collapsed": false
   },
   "outputs": [],
   "source": []
  },
  {
   "cell_type": "code",
   "execution_count": null,
   "metadata": {
    "collapsed": false
   },
   "outputs": [],
   "source": []
  },
  {
   "cell_type": "code",
   "execution_count": null,
   "metadata": {
    "collapsed": true
   },
   "outputs": [],
   "source": []
  },
  {
   "cell_type": "code",
   "execution_count": null,
   "metadata": {
    "collapsed": true
   },
   "outputs": [],
   "source": []
  },
  {
   "cell_type": "code",
   "execution_count": null,
   "metadata": {
    "collapsed": true
   },
   "outputs": [],
   "source": []
  },
  {
   "cell_type": "code",
   "execution_count": null,
   "metadata": {
    "collapsed": true
   },
   "outputs": [],
   "source": []
  },
  {
   "cell_type": "code",
   "execution_count": null,
   "metadata": {
    "collapsed": true
   },
   "outputs": [],
   "source": []
  },
  {
   "cell_type": "code",
   "execution_count": null,
   "metadata": {
    "collapsed": false
   },
   "outputs": [],
   "source": []
  },
  {
   "cell_type": "code",
   "execution_count": null,
   "metadata": {
    "collapsed": false
   },
   "outputs": [],
   "source": []
  },
  {
   "cell_type": "code",
   "execution_count": null,
   "metadata": {
    "collapsed": true
   },
   "outputs": [],
   "source": []
  }
 ],
 "metadata": {
  "kernelspec": {
   "display_name": "Python 2",
   "language": "python",
   "name": "python2"
  },
  "language_info": {
   "codemirror_mode": {
    "name": "ipython",
    "version": 2
   },
   "file_extension": ".py",
   "mimetype": "text/x-python",
   "name": "python",
   "nbconvert_exporter": "python",
   "pygments_lexer": "ipython2",
   "version": "2.7.10"
  }
 },
 "nbformat": 4,
 "nbformat_minor": 0
}
