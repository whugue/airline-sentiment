{
 "cells": [
  {
   "cell_type": "code",
   "execution_count": null,
   "metadata": {
    "collapsed": true
   },
   "outputs": [],
   "source": [
    "import re\n",
    "import numpy as np\n",
    "import pandas as pd\n",
    "\n",
    "from nltk.tokenize.casual import TweetTokenizer\n",
    "from nltk.stem import PorterStemmer\n",
    "\n",
    "from sklearn.preprocessing import StandardScaler\n",
    "from sklearn.pipeline import Pipeline\n",
    "from sklearn.grid_search import GridSearchCV\n",
    "from sklearn.cross_validation import train_test_split, cross_val_score\n",
    "from sklearn.feature_extraction.text import CountVectorizer, TfidfVectorizer, ENGLISH_STOP_WORDS\n",
    "\n",
    "from sklearn.naive_bayes import BernoulliNB, MultinomialNB\n",
    "from sklearn.svm import LinearSVC\n",
    "from sklearn.metrics import accuracy_score, precision_score, recall_score, confusion_matrix"
   ]
  },
  {
   "cell_type": "code",
   "execution_count": null,
   "metadata": {
    "collapsed": true
   },
   "outputs": [],
   "source": [
    "def preprocess(text):\n",
    "    text = re.sub(r\"(?:\\https?\\://)\\S+\", \"\", text) #remove urls\n",
    "    text = re.sub('\\@(\\w+)', \" \", text).replace(\": \",\"\") #remove usernames\n",
    "    text = re.sub('#(\\w+)', \" \", text) #remove hashtags\n",
    "    text = text.replace(\"RT \",\"\") #remove RT Symbols\n",
    "    text = text.replace(\"RT: \",\"\") #remove RT Symbols\n",
    "    text = re.sub(\"[^a-zA-Z,]+\", \" \", text) #remove other non-alpha characters\n",
    "    text = text.strip(\" \") #remove leading and trailing whitespace\n",
    "    \n",
    "    return text\n",
    "\n",
    "def tokenize(text):\n",
    "    tokenizer = TweetTokenizer(preserve_case=False, reduce_len=True, strip_handles=True)    \n",
    "    return [x for x in tokenizer.tokenize(preprocess(text)) if len(x)>=4]"
   ]
  }
 ],
 "metadata": {
  "kernelspec": {
   "display_name": "Python 2",
   "language": "python",
   "name": "python2"
  },
  "language_info": {
   "codemirror_mode": {
    "name": "ipython",
    "version": 2
   },
   "file_extension": ".py",
   "mimetype": "text/x-python",
   "name": "python",
   "nbconvert_exporter": "python",
   "pygments_lexer": "ipython2",
   "version": "2.7.10"
  }
 },
 "nbformat": 4,
 "nbformat_minor": 0
}
