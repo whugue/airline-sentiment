{
 "cells": [
  {
   "cell_type": "markdown",
   "metadata": {},
   "source": [
    "### Clean & Prepprocess Crowdflower Data Prior to Model Training\n",
    "A Super Handy CrowdFlower Glossary of Terms can be found [here](https://success.crowdflower.com/hc/en-us/articles/202703305-Glossary-of-Terms)!"
   ]
  },
  {
   "cell_type": "code",
   "execution_count": 1,
   "metadata": {
    "collapsed": false
   },
   "outputs": [],
   "source": [
    "import numpy as np\n",
    "import pandas as pd\n",
    "import seaborn as sns\n",
    "from matplotlib import pyplot as plt\n",
    "%matplotlib inline"
   ]
  },
  {
   "cell_type": "markdown",
   "metadata": {},
   "source": [
    "#### Read-In Jobs-Level Data (from CrowdFlower's *Data for Everyone* [library](https://www.crowdflower.com/data-for-everyone/))"
   ]
  },
  {
   "cell_type": "code",
   "execution_count": 2,
   "metadata": {
    "collapsed": false
   },
   "outputs": [
    {
     "name": "stdout",
     "output_type": "stream",
     "text": [
      "Index([u'_unit_id', u'_created_at', u'_golden', u'_id', u'_missed',\n",
      "       u'_started_at', u'_tainted', u'_channel', u'_trust', u'_worker_id',\n",
      "       u'_country', u'_region', u'_city', u'_ip', u'airline_sentiment',\n",
      "       u'negativereason', u'airline', u'airline_sentiment_gold', u'name',\n",
      "       u'negativereason_gold', u'retweet_count', u'text', u'tweet_coord',\n",
      "       u'tweet_created', u'tweet_id', u'tweet_location', u'user_timezone'],\n",
      "      dtype='object')\n"
     ]
    },
    {
     "data": {
      "text/html": [
       "<div>\n",
       "<table border=\"1\" class=\"dataframe\">\n",
       "  <thead>\n",
       "    <tr style=\"text-align: right;\">\n",
       "      <th></th>\n",
       "      <th>_unit_id</th>\n",
       "      <th>_created_at</th>\n",
       "      <th>_golden</th>\n",
       "      <th>_id</th>\n",
       "      <th>_missed</th>\n",
       "      <th>_started_at</th>\n",
       "      <th>_tainted</th>\n",
       "      <th>_channel</th>\n",
       "      <th>_trust</th>\n",
       "      <th>_worker_id</th>\n",
       "      <th>...</th>\n",
       "      <th>airline_sentiment_gold</th>\n",
       "      <th>name</th>\n",
       "      <th>negativereason_gold</th>\n",
       "      <th>retweet_count</th>\n",
       "      <th>text</th>\n",
       "      <th>tweet_coord</th>\n",
       "      <th>tweet_created</th>\n",
       "      <th>tweet_id</th>\n",
       "      <th>tweet_location</th>\n",
       "      <th>user_timezone</th>\n",
       "    </tr>\n",
       "  </thead>\n",
       "  <tbody>\n",
       "    <tr>\n",
       "      <th>0</th>\n",
       "      <td>681448150</td>\n",
       "      <td>2/25/2015 04:52:40</td>\n",
       "      <td>False</td>\n",
       "      <td>1575073003</td>\n",
       "      <td>NaN</td>\n",
       "      <td>2/25/2015 04:49:12</td>\n",
       "      <td>False</td>\n",
       "      <td>elite</td>\n",
       "      <td>0.8108</td>\n",
       "      <td>31110645</td>\n",
       "      <td>...</td>\n",
       "      <td>NaN</td>\n",
       "      <td>cairdin</td>\n",
       "      <td>NaN</td>\n",
       "      <td>0</td>\n",
       "      <td>@VirginAmerica What @dhepburn said.</td>\n",
       "      <td>NaN</td>\n",
       "      <td>2015-02-24 11:35:52 -0800</td>\n",
       "      <td>570306133677760513</td>\n",
       "      <td>NaN</td>\n",
       "      <td>Eastern Time (US &amp; Canada)</td>\n",
       "    </tr>\n",
       "    <tr>\n",
       "      <th>1</th>\n",
       "      <td>681448150</td>\n",
       "      <td>2/25/2015 05:22:10</td>\n",
       "      <td>False</td>\n",
       "      <td>1575093916</td>\n",
       "      <td>NaN</td>\n",
       "      <td>2/25/2015 05:19:59</td>\n",
       "      <td>False</td>\n",
       "      <td>prodege</td>\n",
       "      <td>0.8919</td>\n",
       "      <td>1908948</td>\n",
       "      <td>...</td>\n",
       "      <td>NaN</td>\n",
       "      <td>cairdin</td>\n",
       "      <td>NaN</td>\n",
       "      <td>0</td>\n",
       "      <td>@VirginAmerica What @dhepburn said.</td>\n",
       "      <td>NaN</td>\n",
       "      <td>2015-02-24 11:35:52 -0800</td>\n",
       "      <td>570306133677760513</td>\n",
       "      <td>NaN</td>\n",
       "      <td>Eastern Time (US &amp; Canada)</td>\n",
       "    </tr>\n",
       "  </tbody>\n",
       "</table>\n",
       "<p>2 rows × 27 columns</p>\n",
       "</div>"
      ],
      "text/plain": [
       "    _unit_id         _created_at _golden         _id _missed  \\\n",
       "0  681448150  2/25/2015 04:52:40   False  1575073003     NaN   \n",
       "1  681448150  2/25/2015 05:22:10   False  1575093916     NaN   \n",
       "\n",
       "          _started_at _tainted _channel  _trust  _worker_id  \\\n",
       "0  2/25/2015 04:49:12    False    elite  0.8108    31110645   \n",
       "1  2/25/2015 05:19:59    False  prodege  0.8919     1908948   \n",
       "\n",
       "              ...             airline_sentiment_gold     name  \\\n",
       "0             ...                                NaN  cairdin   \n",
       "1             ...                                NaN  cairdin   \n",
       "\n",
       "  negativereason_gold retweet_count                                 text  \\\n",
       "0                 NaN             0  @VirginAmerica What @dhepburn said.   \n",
       "1                 NaN             0  @VirginAmerica What @dhepburn said.   \n",
       "\n",
       "  tweet_coord              tweet_created            tweet_id tweet_location  \\\n",
       "0         NaN  2015-02-24 11:35:52 -0800  570306133677760513            NaN   \n",
       "1         NaN  2015-02-24 11:35:52 -0800  570306133677760513            NaN   \n",
       "\n",
       "                user_timezone  \n",
       "0  Eastern Time (US & Canada)  \n",
       "1  Eastern Time (US & Canada)  \n",
       "\n",
       "[2 rows x 27 columns]"
      ]
     },
     "execution_count": 2,
     "metadata": {},
     "output_type": "execute_result"
    }
   ],
   "source": [
    "cf = pd.read_csv(\"http://cdn2.hubspot.net/hub/346378/file-2612489700-csv/DFE_CSVs/Airline-Full-Non-Ag-DFE-Sentiment.csv\")\n",
    "print cf.columns\n",
    "cf.head(2)"
   ]
  },
  {
   "cell_type": "markdown",
   "metadata": {
    "collapsed": true
   },
   "source": [
    "#### Split Test (i.e. Golden Tweets) out from the non-test tweets.\n",
    "* (We already know the \"correct\" answers for the Test tweets, so we can process those seperately.)\n",
    "* Also, per CF's recommendation, we only keep judegements from contibutors with a trust score of at least 70%"
   ]
  },
  {
   "cell_type": "code",
   "execution_count": 3,
   "metadata": {
    "collapsed": false
   },
   "outputs": [
    {
     "name": "stdout",
     "output_type": "stream",
     "text": [
      "(11997, 27) (43786, 27)\n"
     ]
    }
   ],
   "source": [
    "gold =   cf[cf._golden==True].copy()\n",
    "nogold = cf[cf._golden==False].copy()\n",
    "\n",
    "print gold.shape, nogold.shape"
   ]
  },
  {
   "cell_type": "code",
   "execution_count": null,
   "metadata": {
    "collapsed": true
   },
   "outputs": [],
   "source": [
    "### Look at D"
   ]
  },
  {
   "cell_type": "markdown",
   "metadata": {},
   "source": [
    "#### Create 0/1 sentiment indicator for non-test tweets"
   ]
  },
  {
   "cell_type": "code",
   "execution_count": null,
   "metadata": {
    "collapsed": false
   },
   "outputs": [],
   "source": [
    "nogold.airline_sentiment.value_counts(dropna=False)"
   ]
  },
  {
   "cell_type": "code",
   "execution_count": null,
   "metadata": {
    "collapsed": true
   },
   "outputs": [],
   "source": []
  },
  {
   "cell_type": "code",
   "execution_count": null,
   "metadata": {
    "collapsed": false
   },
   "outputs": [],
   "source": [
    "nogold[\"complaint0\"] = 0\n",
    "nogold[\"complaint1\"] = 0\n",
    "\n",
    "nogold[\"complaint0trust\"] = np.nan\n",
    "nogold[\"complaint1trust\"] = np.nan\n",
    "\n",
    "nogold.ix[nogold[\"airline_sentiment\"].isin([\"positive\",\"neutral\"]), \"complaint0\"] = 1\n",
    "nogold.ix[nogold[\"airline_sentiment\"]==\"negative\", \"complaint1\"] = 1\n",
    "\n",
    "nogold.ix[nogold[\"airline_sentiment\"].isin([\"positive\",\"neutral\"]), \"complaint0trust\"] = nogold._trust\n",
    "nogold.ix[nogold[\"airline_sentiment\"]==\"negative\", \"complaint1trust\"] = nogold._trust"
   ]
  },
  {
   "cell_type": "code",
   "execution_count": null,
   "metadata": {
    "collapsed": false
   },
   "outputs": [],
   "source": [
    "nogold[[\"complaint0\",\"complaint1\",\"complaint0trust\",\"complaint1trust\",\"_trust\"]].head(5)"
   ]
  },
  {
   "cell_type": "code",
   "execution_count": null,
   "metadata": {
    "collapsed": false
   },
   "outputs": [],
   "source": [
    "cp = nogold.groupby(by=[\"tweet_id\", \"text\"], as_index=False)\\\n",
    "[[\"complaint0\",\"complaint1\",\"complaint0trust\",\"complaint1trust\"]].sum()\n",
    "\n",
    "cp[\"negProb\"] = cp.complaint1trust/(cp.complaint0trust+cp.complaint1trust)\n",
    "\n",
    "cp.head(5)"
   ]
  },
  {
   "cell_type": "code",
   "execution_count": null,
   "metadata": {
    "collapsed": false
   },
   "outputs": [],
   "source": [
    "ambiguous = cp[(cp.complaint0 > 0) & (cp.complaint1 > 0)]"
   ]
  },
  {
   "cell_type": "code",
   "execution_count": null,
   "metadata": {
    "collapsed": false
   },
   "outputs": [],
   "source": []
  },
  {
   "cell_type": "code",
   "execution_count": null,
   "metadata": {
    "collapsed": false
   },
   "outputs": [],
   "source": [
    "plt.figure(figsize=(20,10))\n",
    "plt.hist(ambiguous[\"negProb\"].tolist(), bins=50)"
   ]
  },
  {
   "cell_type": "code",
   "execution_count": null,
   "metadata": {
    "collapsed": true
   },
   "outputs": [],
   "source": []
  },
  {
   "cell_type": "code",
   "execution_count": null,
   "metadata": {
    "collapsed": true
   },
   "outputs": [],
   "source": []
  },
  {
   "cell_type": "code",
   "execution_count": null,
   "metadata": {
    "collapsed": true
   },
   "outputs": [],
   "source": []
  },
  {
   "cell_type": "markdown",
   "metadata": {},
   "source": [
    "##### Classify Labels"
   ]
  },
  {
   "cell_type": "code",
   "execution_count": null,
   "metadata": {
    "collapsed": true
   },
   "outputs": [],
   "source": [
    "def define_complaints(sentiment, complaint):\n",
    "    if sentiment in [\"positive\", \"neutral\"]:\n",
    "        return \"No Complaint\"\n",
    "    elif complaint in [\"Cancelled Flight\", \"Late Flight\"]:\n",
    "        return \"Delay or Cancellation\"\n",
    "    elif complaint in [\"Lost Luggage\", \"Damaged Luggage\"]:\n",
    "        return \"Lost or Damaged Luggage\"\n",
    "    elif complaint in [\"Customer Service Issue\", \"Flight Attendant Complaints\", \"Flight Booking Problems\", \"longlines\"]:\n",
    "        return \"Customer Service\"\n",
    "    elif compaint in [\"Bad Flight\", \"Can't Tell\"]:\n",
    "        return \"Unknown\"\n",
    "    \n",
    "cf[\"complaint\"] = cf[[\"airline_sentiment\", \"negativereason\"]].apply(define_complaints)"
   ]
  },
  {
   "cell_type": "code",
   "execution_count": null,
   "metadata": {
    "collapsed": true
   },
   "outputs": [],
   "source": []
  },
  {
   "cell_type": "code",
   "execution_count": null,
   "metadata": {
    "collapsed": false
   },
   "outputs": [],
   "source": []
  },
  {
   "cell_type": "code",
   "execution_count": null,
   "metadata": {
    "collapsed": false
   },
   "outputs": [],
   "source": []
  },
  {
   "cell_type": "code",
   "execution_count": null,
   "metadata": {
    "collapsed": true
   },
   "outputs": [],
   "source": []
  }
 ],
 "metadata": {
  "kernelspec": {
   "display_name": "Python 2",
   "language": "python",
   "name": "python2"
  },
  "language_info": {
   "codemirror_mode": {
    "name": "ipython",
    "version": 2
   },
   "file_extension": ".py",
   "mimetype": "text/x-python",
   "name": "python",
   "nbconvert_exporter": "python",
   "pygments_lexer": "ipython2",
   "version": "2.7.10"
  }
 },
 "nbformat": 4,
 "nbformat_minor": 0
}
