{
 "cells": [
  {
   "cell_type": "markdown",
   "metadata": {},
   "source": [
    "### (0) Explore annotated airline tweet data provided by Crowdflower\n",
    "A Super Handy CrowdFlower Glossary of Terms can be found [here](https://success.crowdflower.com/hc/en-us/articles/202703305-Glossary-of-Terms)!"
   ]
  },
  {
   "cell_type": "code",
   "execution_count": 1,
   "metadata": {
    "collapsed": false
   },
   "outputs": [],
   "source": [
    "import numpy as np\n",
    "import pandas as pd\n",
    "\n",
    "pd.set_option(\"display.max_rows\", 500)"
   ]
  },
  {
   "cell_type": "markdown",
   "metadata": {},
   "source": [
    "#### Read-In Jobs-Level Data (from CrowdFlower's *Data for Everyone* [library](https://www.crowdflower.com/data-for-everyone/))"
   ]
  },
  {
   "cell_type": "code",
   "execution_count": 2,
   "metadata": {
    "collapsed": false
   },
   "outputs": [
    {
     "name": "stdout",
     "output_type": "stream",
     "text": [
      "Index([u'_unit_id', u'_created_at', u'_golden', u'_id', u'_missed',\n",
      "       u'_started_at', u'_tainted', u'_channel', u'_trust', u'_worker_id',\n",
      "       u'_country', u'_region', u'_city', u'_ip', u'airline_sentiment',\n",
      "       u'negativereason', u'airline', u'airline_sentiment_gold', u'name',\n",
      "       u'negativereason_gold', u'retweet_count', u'text', u'tweet_coord',\n",
      "       u'tweet_created', u'tweet_id', u'tweet_location', u'user_timezone'],\n",
      "      dtype='object')\n"
     ]
    },
    {
     "data": {
      "text/html": [
       "<div>\n",
       "<table border=\"1\" class=\"dataframe\">\n",
       "  <thead>\n",
       "    <tr style=\"text-align: right;\">\n",
       "      <th></th>\n",
       "      <th>_unit_id</th>\n",
       "      <th>_created_at</th>\n",
       "      <th>_golden</th>\n",
       "      <th>_id</th>\n",
       "      <th>_missed</th>\n",
       "      <th>_started_at</th>\n",
       "      <th>_tainted</th>\n",
       "      <th>_channel</th>\n",
       "      <th>_trust</th>\n",
       "      <th>_worker_id</th>\n",
       "      <th>...</th>\n",
       "      <th>airline_sentiment_gold</th>\n",
       "      <th>name</th>\n",
       "      <th>negativereason_gold</th>\n",
       "      <th>retweet_count</th>\n",
       "      <th>text</th>\n",
       "      <th>tweet_coord</th>\n",
       "      <th>tweet_created</th>\n",
       "      <th>tweet_id</th>\n",
       "      <th>tweet_location</th>\n",
       "      <th>user_timezone</th>\n",
       "    </tr>\n",
       "  </thead>\n",
       "  <tbody>\n",
       "    <tr>\n",
       "      <th>0</th>\n",
       "      <td>681448150</td>\n",
       "      <td>2/25/2015 04:52:40</td>\n",
       "      <td>False</td>\n",
       "      <td>1575073003</td>\n",
       "      <td>NaN</td>\n",
       "      <td>2/25/2015 04:49:12</td>\n",
       "      <td>False</td>\n",
       "      <td>elite</td>\n",
       "      <td>0.8108</td>\n",
       "      <td>31110645</td>\n",
       "      <td>...</td>\n",
       "      <td>NaN</td>\n",
       "      <td>cairdin</td>\n",
       "      <td>NaN</td>\n",
       "      <td>0</td>\n",
       "      <td>@VirginAmerica What @dhepburn said.</td>\n",
       "      <td>NaN</td>\n",
       "      <td>2015-02-24 11:35:52 -0800</td>\n",
       "      <td>570306133677760513</td>\n",
       "      <td>NaN</td>\n",
       "      <td>Eastern Time (US &amp; Canada)</td>\n",
       "    </tr>\n",
       "    <tr>\n",
       "      <th>1</th>\n",
       "      <td>681448150</td>\n",
       "      <td>2/25/2015 05:22:10</td>\n",
       "      <td>False</td>\n",
       "      <td>1575093916</td>\n",
       "      <td>NaN</td>\n",
       "      <td>2/25/2015 05:19:59</td>\n",
       "      <td>False</td>\n",
       "      <td>prodege</td>\n",
       "      <td>0.8919</td>\n",
       "      <td>1908948</td>\n",
       "      <td>...</td>\n",
       "      <td>NaN</td>\n",
       "      <td>cairdin</td>\n",
       "      <td>NaN</td>\n",
       "      <td>0</td>\n",
       "      <td>@VirginAmerica What @dhepburn said.</td>\n",
       "      <td>NaN</td>\n",
       "      <td>2015-02-24 11:35:52 -0800</td>\n",
       "      <td>570306133677760513</td>\n",
       "      <td>NaN</td>\n",
       "      <td>Eastern Time (US &amp; Canada)</td>\n",
       "    </tr>\n",
       "  </tbody>\n",
       "</table>\n",
       "<p>2 rows × 27 columns</p>\n",
       "</div>"
      ],
      "text/plain": [
       "    _unit_id         _created_at _golden         _id _missed  \\\n",
       "0  681448150  2/25/2015 04:52:40   False  1575073003     NaN   \n",
       "1  681448150  2/25/2015 05:22:10   False  1575093916     NaN   \n",
       "\n",
       "          _started_at _tainted _channel  _trust  _worker_id  \\\n",
       "0  2/25/2015 04:49:12    False    elite  0.8108    31110645   \n",
       "1  2/25/2015 05:19:59    False  prodege  0.8919     1908948   \n",
       "\n",
       "              ...             airline_sentiment_gold     name  \\\n",
       "0             ...                                NaN  cairdin   \n",
       "1             ...                                NaN  cairdin   \n",
       "\n",
       "  negativereason_gold retweet_count                                 text  \\\n",
       "0                 NaN             0  @VirginAmerica What @dhepburn said.   \n",
       "1                 NaN             0  @VirginAmerica What @dhepburn said.   \n",
       "\n",
       "  tweet_coord              tweet_created            tweet_id tweet_location  \\\n",
       "0         NaN  2015-02-24 11:35:52 -0800  570306133677760513            NaN   \n",
       "1         NaN  2015-02-24 11:35:52 -0800  570306133677760513            NaN   \n",
       "\n",
       "                user_timezone  \n",
       "0  Eastern Time (US & Canada)  \n",
       "1  Eastern Time (US & Canada)  \n",
       "\n",
       "[2 rows x 27 columns]"
      ]
     },
     "execution_count": 2,
     "metadata": {},
     "output_type": "execute_result"
    }
   ],
   "source": [
    "#cf = pd.read_csv(\"https://www.crowdflower.com/wp-content/uploads/2016/03/Airline-Sentiment-2-w-AA.csv\")\n",
    "cf=pd.read_csv(\"http://cdn2.hubspot.net/hub/346378/file-2612489700-csv/DFE_CSVs/Airline-Full-Non-Ag-DFE-Sentiment.csv\")\n",
    "\n",
    "print cf.columns\n",
    "cf.head(2)"
   ]
  },
  {
   "cell_type": "markdown",
   "metadata": {},
   "source": [
    "#### Check for Duplicative Records"
   ]
  },
  {
   "cell_type": "code",
   "execution_count": 4,
   "metadata": {
    "collapsed": false
   },
   "outputs": [
    {
     "name": "stdout",
     "output_type": "stream",
     "text": [
      "False    55783\n",
      "dtype: int64\n",
      "False    14680\n",
      "dtype: int64\n",
      "False    14485\n",
      "True       195\n",
      "dtype: int64\n",
      "False    14485\n",
      "dtype: int64\n",
      "False    14485\n",
      "dtype: int64\n",
      "False    14485\n",
      "True        10\n",
      "dtype: int64\n"
     ]
    }
   ],
   "source": [
    "##Check for Duplicate judgement IDs (_id)\n",
    "print cf.duplicated(\"_id\").value_counts() #no duplicate judgement IDs\n",
    "\n",
    "##Check for Dupplicate Tweet IDs (_unit_id, tweet_id)\n",
    "print cf.drop_duplicates([\"_unit_id\",\"tweet_id\"]).duplicated(\"_unit_id\").value_counts() #No Duplicates\n",
    "print cf.drop_duplicates([\"_unit_id\",\"tweet_id\"]).duplicated(\"tweet_id\").value_counts() #N=195 Duplicates.\n",
    "print cf.drop_duplicates([\"tweet_id\",\"text\"]).duplicated(\"tweet_id\").value_counts() #No Duplicates\n",
    "print cf.drop_duplicates([\"tweet_id\",\"name\"]).duplicated(\"tweet_id\").value_counts() #No Duplicates\n",
    "print cf.drop_duplicates([\"tweet_id\",\"_golden\"]).duplicated(\"tweet_id\").value_counts() #N=!0 Duplicates. Drop Non-Test"
   ]
  },
  {
   "cell_type": "markdown",
   "metadata": {},
   "source": [
    "Not sure why _unit_id is duplicative/ what represents, but since tweet_id lines up with the actual tweet (from which our model feature vectors will eventually be created, use tweet_id as unit of 1 tweet, not _unit_id\n"
   ]
  },
  {
   "cell_type": "code",
   "execution_count": null,
   "metadata": {
    "collapsed": false
   },
   "outputs": [],
   "source": [
    "##Check for Duplicates by Tweet ID, Worker ID (this should represent 1 judgement)\n",
    "cf.drop_duplicates([\"tweet_id\",\"_worker_id\"]).duplicated([\"tweet_id\",\"_worker_id\"]).value_counts() #no duplicates"
   ]
  },
  {
   "cell_type": "code",
   "execution_count": null,
   "metadata": {
    "collapsed": true
   },
   "outputs": [],
   "source": []
  },
  {
   "cell_type": "markdown",
   "metadata": {},
   "source": [
    "#### Investigate How Worker Trust Scores are Calculated"
   ]
  },
  {
   "cell_type": "code",
   "execution_count": null,
   "metadata": {
    "collapsed": false
   },
   "outputs": [],
   "source": [
    "print cf._tainted.value_counts(dropna=False) #no tweets marked at tainted\n",
    "print cf._trust.describe() ##All Trust Scores in Range 70% - 100% - \"tainted\" judgements dropped"
   ]
  },
  {
   "cell_type": "code",
   "execution_count": null,
   "metadata": {
    "collapsed": false
   },
   "outputs": [],
   "source": [
    "###Look at Progression\n",
    "cf.sort_values(by=[\"_worker_id\",\"_started_at\"])[[\"_worker_id\",\"_started_at\",\"_created_at\",\"tweet_id\",\"text\",\\\n",
    "                                                  \"_golden\",\"airline_sentiment\",\"airline_sentiment_gold\",\"_trust\"]].head(15)"
   ]
  },
  {
   "cell_type": "markdown",
   "metadata": {},
   "source": [
    "* Starts with a series of Test (golden) tweets to determine trust score, then occational spot checks w/ a test tweet\n",
    "* Doesnt look like trust score fluctuates with performance in judgement-level data. \n",
    "Confirm that there is 1 trust score per worker only."
   ]
  },
  {
   "cell_type": "code",
   "execution_count": null,
   "metadata": {
    "collapsed": false
   },
   "outputs": [],
   "source": [
    "##Confirm 1 Trust Score Per Worker\n",
    "cf.drop_duplicates([\"_worker_id\",\"_trust\"]).duplicated(\"_worker_id\").value_counts() ##N=69 Workers w/ multiple trust scores"
   ]
  },
  {
   "cell_type": "code",
   "execution_count": null,
   "metadata": {
    "collapsed": false
   },
   "outputs": [],
   "source": [
    "dups = cf.drop_duplicates([\"_worker_id\",\"_trust\"])[[\"_worker_id\",\"_trust\"]].copy()\n",
    "dups[\"dups\"] = cf.duplicated(\"_worker_id\")\n",
    "\n",
    "dups[dups.dups==True][:10]"
   ]
  },
  {
   "cell_type": "markdown",
   "metadata": {
    "collapsed": true
   },
   "source": [
    "#### Look at Tasking for a couple users with multiple trust scores"
   ]
  },
  {
   "cell_type": "code",
   "execution_count": null,
   "metadata": {
    "collapsed": true
   },
   "outputs": [],
   "source": [
    "view = cf.sort_values(by=[\"_worker_id\",\"_started_at\"])[[\"_worker_id\",\"_started_at\",\"_created_at\",\"tweet_id\",\"text\",\\\n",
    "                                                  \"_golden\",\"airline_sentiment\",\"airline_sentiment_gold\",\"_trust\"]].copy()"
   ]
  },
  {
   "cell_type": "code",
   "execution_count": null,
   "metadata": {
    "collapsed": false
   },
   "outputs": [],
   "source": [
    "view[view._worker_id==25620782]"
   ]
  },
  {
   "cell_type": "markdown",
   "metadata": {
    "collapsed": true
   },
   "source": [
    "It looks like the two seperate trust scores per user are associated with two different \"tasking\" sessions. \n",
    "Use (weighted?) average? Or treat as if two different taskers?"
   ]
  },
  {
   "cell_type": "markdown",
   "metadata": {
    "collapsed": false
   },
   "source": [
    "#### Checks to be done\n",
    "* Duplicate worker IDs by name\n",
    "* Golden Tweet Flag X Airline Sentiment X Gold Airline Sentiment\n",
    "* Golden Tweet Flag X Airline Topic X Gold Airline Topic\n",
    "* Look at examples where Airline Sentiment != Gold Airline Sentiment. Confirm Gold Airline Sentiment is the \"correct\""
   ]
  },
  {
   "cell_type": "markdown",
   "metadata": {
    "collapsed": false
   },
   "source": [
    "#### Look at Test Tweets X Sentiment/Topic Flags and Golden Sentiment/ Topic Flags"
   ]
  },
  {
   "cell_type": "code",
   "execution_count": null,
   "metadata": {
    "collapsed": false
   },
   "outputs": [],
   "source": [
    "print cf.columns"
   ]
  },
  {
   "cell_type": "code",
   "execution_count": null,
   "metadata": {
    "collapsed": false
   },
   "outputs": [],
   "source": [
    "print cf.airline_sentiment.value_counts()\n",
    "print cf.negativereason.value_counts()"
   ]
  },
  {
   "cell_type": "code",
   "execution_count": null,
   "metadata": {
    "collapsed": false
   },
   "outputs": [],
   "source": [
    "pd.crosstab(cf._golden, cf.airline_sentiment_gold, dropna=False)"
   ]
  },
  {
   "cell_type": "code",
   "execution_count": null,
   "metadata": {
    "collapsed": false
   },
   "outputs": [],
   "source": [
    "pd.crosstab(cf.airline_sentiment_gold, cf.negativereason_gold, dropna=False)"
   ]
  },
  {
   "cell_type": "code",
   "execution_count": null,
   "metadata": {
    "collapsed": false
   },
   "outputs": [],
   "source": [
    "###Confirm that Golden Sentiment/ Topics are \"correct\"\n",
    "view1 = cf[(cf._golden==True) & (cf.airline_sentiment != cf.airline_sentiment_gold)].copy()\n",
    "view2 = cf[(cf._golden==True) & (cf.negativereason != cf.negativereason_gold)].copy()"
   ]
  },
  {
   "cell_type": "code",
   "execution_count": null,
   "metadata": {
    "collapsed": false
   },
   "outputs": [],
   "source": [
    "for a, b, c in zip(view1[\"text\"], view1[\"airline_sentiment\"], view1[\"airline_sentiment_gold\"])[:20]:\n",
    "    print a, b, c"
   ]
  },
  {
   "cell_type": "code",
   "execution_count": null,
   "metadata": {
    "collapsed": false
   },
   "outputs": [],
   "source": [
    "for a, b, c in zip(view2[\"text\"], view2[\"negativereason\"], view2[\"negativereason_gold\"])[:20]:\n",
    "    print a, b, c"
   ]
  },
  {
   "cell_type": "markdown",
   "metadata": {},
   "source": [
    "\"Gold\" reasons are the \"correct\" ones."
   ]
  },
  {
   "cell_type": "code",
   "execution_count": null,
   "metadata": {
    "collapsed": true
   },
   "outputs": [],
   "source": []
  }
 ],
 "metadata": {
  "kernelspec": {
   "display_name": "Python 2",
   "language": "python",
   "name": "python2"
  },
  "language_info": {
   "codemirror_mode": {
    "name": "ipython",
    "version": 2
   },
   "file_extension": ".py",
   "mimetype": "text/x-python",
   "name": "python",
   "nbconvert_exporter": "python",
   "pygments_lexer": "ipython2",
   "version": "2.7.10"
  }
 },
 "nbformat": 4,
 "nbformat_minor": 0
}
